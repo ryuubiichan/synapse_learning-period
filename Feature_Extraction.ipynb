{
  "nbformat": 4,
  "nbformat_minor": 0,
  "metadata": {
    "kernelspec": {
      "display_name": "Python 3 (ipykernel)",
      "language": "python",
      "name": "python3"
    },
    "language_info": {
      "codemirror_mode": {
        "name": "ipython",
        "version": 3
      },
      "file_extension": ".py",
      "mimetype": "text/x-python",
      "name": "python",
      "nbconvert_exporter": "python",
      "pygments_lexer": "ipython3",
      "version": "3.9.7"
    },
    "colab": {
      "name": "Feature_Extraction.ipynb",
      "provenance": [],
      "collapsed_sections": [],
      "include_colab_link": true
    }
  },
  "cells": [
    {
      "cell_type": "markdown",
      "metadata": {
        "id": "view-in-github",
        "colab_type": "text"
      },
      "source": [
        "<a href=\"https://colab.research.google.com/github/ryuubiichan/synapse_learning-period/blob/nlp_week-2/Feature_Extraction.ipynb\" target=\"_parent\"><img src=\"https://colab.research.google.com/assets/colab-badge.svg\" alt=\"Open In Colab\"/></a>"
      ]
    },
    {
      "cell_type": "markdown",
      "metadata": {
        "id": "BQokCPVqsa_S"
      },
      "source": [
        "<a id=\"Introduction\"></a>\n",
        "# Introduction\n",
        "\n",
        "This week we will be focusing on NLP preprocessing and feature extraction techniques and codes. We will mainly use the [Real or Not? NLP with Disaster Tweets](https://www.kaggle.com/c/nlp-getting-started) dataset for illustration.\n",
        "\n",
        "We will revise our concepts learned from last week and will be learning newer concepts based on feature extraction and word embeddings\n",
        "\n",
        "<img src=\"https://miro.medium.com/max/1750/1*rJQVqDjbhI3k22lHqa4dFw.png\" align=\"center\"/>\n",
        "\n",
        "image source: [Natural Language Processing Pipeline](https://towardsdatascience.com/natural-language-processing-pipeline-93df02ecd03f)"
      ]
    },
    {
      "cell_type": "markdown",
      "metadata": {
        "id": "WUTfhkdjsa_W"
      },
      "source": [
        "<a id=\"Read_and_explore_data\"></a>\n",
        "\n",
        "# Read and explore data\n",
        "\n",
        "<a id=\"Importing_Main_Packages\"></a>\n",
        "## Importing Main Packages"
      ]
    },
    {
      "cell_type": "code",
      "metadata": {
        "execution": {
          "iopub.execute_input": "2021-11-13T10:20:32.194579Z",
          "iopub.status.busy": "2021-11-13T10:20:32.194211Z",
          "iopub.status.idle": "2021-11-13T10:20:32.234873Z",
          "shell.execute_reply": "2021-11-13T10:20:32.234227Z",
          "shell.execute_reply.started": "2021-11-13T10:20:32.194548Z"
        },
        "scrolled": true,
        "id": "GgVhUa0dsa_X"
      },
      "source": [
        "\n",
        "import sys\n",
        "import numpy as np\n",
        "import pandas as pd\n",
        "import sklearn\n",
        "\n",
        "# Libraries and packages for text (pre-)processing \n",
        "import string\n",
        "import re\n",
        "import nltk\n"
      ],
      "execution_count": null,
      "outputs": []
    },
    {
      "cell_type": "markdown",
      "metadata": {
        "id": "Wap4GpPWsa_Y"
      },
      "source": [
        "<a id=\"Read_the_Data\"></a>\n",
        "## Read the Data"
      ]
    },
    {
      "cell_type": "code",
      "metadata": {
        "execution": {
          "iopub.execute_input": "2021-11-13T10:20:32.236818Z",
          "iopub.status.busy": "2021-11-13T10:20:32.236328Z",
          "iopub.status.idle": "2021-11-13T10:20:32.272601Z",
          "shell.execute_reply": "2021-11-13T10:20:32.271053Z",
          "shell.execute_reply.started": "2021-11-13T10:20:32.236782Z"
        },
        "id": "iPfvjyfHsa_Y",
        "outputId": "0d5ba513-3f07-42d6-efff-c2e97f26aa5e"
      },
      "source": [
        "# read the \"train.csv\" file and display using head(). Name the variable as \"train_df\"\n",
        "train_df = pd.read_csv('/content/drive/MyDrive/train.csv')\n",
        "train_df.head()"
      ],
      "execution_count": null,
      "outputs": [
        {
          "data": {
            "text/html": [
              "<div>\n",
              "<style scoped>\n",
              "    .dataframe tbody tr th:only-of-type {\n",
              "        vertical-align: middle;\n",
              "    }\n",
              "\n",
              "    .dataframe tbody tr th {\n",
              "        vertical-align: top;\n",
              "    }\n",
              "\n",
              "    .dataframe thead th {\n",
              "        text-align: right;\n",
              "    }\n",
              "</style>\n",
              "<table border=\"1\" class=\"dataframe\">\n",
              "  <thead>\n",
              "    <tr style=\"text-align: right;\">\n",
              "      <th></th>\n",
              "      <th>id</th>\n",
              "      <th>keyword</th>\n",
              "      <th>location</th>\n",
              "      <th>text</th>\n",
              "      <th>target</th>\n",
              "    </tr>\n",
              "  </thead>\n",
              "  <tbody>\n",
              "    <tr>\n",
              "      <th>0</th>\n",
              "      <td>1</td>\n",
              "      <td>NaN</td>\n",
              "      <td>NaN</td>\n",
              "      <td>Our Deeds are the Reason of this #earthquake M...</td>\n",
              "      <td>1</td>\n",
              "    </tr>\n",
              "    <tr>\n",
              "      <th>1</th>\n",
              "      <td>4</td>\n",
              "      <td>NaN</td>\n",
              "      <td>NaN</td>\n",
              "      <td>Forest fire near La Ronge Sask. Canada</td>\n",
              "      <td>1</td>\n",
              "    </tr>\n",
              "    <tr>\n",
              "      <th>2</th>\n",
              "      <td>5</td>\n",
              "      <td>NaN</td>\n",
              "      <td>NaN</td>\n",
              "      <td>All residents asked to 'shelter in place' are ...</td>\n",
              "      <td>1</td>\n",
              "    </tr>\n",
              "    <tr>\n",
              "      <th>3</th>\n",
              "      <td>6</td>\n",
              "      <td>NaN</td>\n",
              "      <td>NaN</td>\n",
              "      <td>13,000 people receive #wildfires evacuation or...</td>\n",
              "      <td>1</td>\n",
              "    </tr>\n",
              "    <tr>\n",
              "      <th>4</th>\n",
              "      <td>7</td>\n",
              "      <td>NaN</td>\n",
              "      <td>NaN</td>\n",
              "      <td>Just got sent this photo from Ruby #Alaska as ...</td>\n",
              "      <td>1</td>\n",
              "    </tr>\n",
              "  </tbody>\n",
              "</table>\n",
              "</div>"
            ],
            "text/plain": [
              "   id keyword location                                               text  \\\n",
              "0   1     NaN      NaN  Our Deeds are the Reason of this #earthquake M...   \n",
              "1   4     NaN      NaN             Forest fire near La Ronge Sask. Canada   \n",
              "2   5     NaN      NaN  All residents asked to 'shelter in place' are ...   \n",
              "3   6     NaN      NaN  13,000 people receive #wildfires evacuation or...   \n",
              "4   7     NaN      NaN  Just got sent this photo from Ruby #Alaska as ...   \n",
              "\n",
              "   target  \n",
              "0       1  \n",
              "1       1  \n",
              "2       1  \n",
              "3       1  \n",
              "4       1  "
            ]
          },
          "execution_count": 2,
          "metadata": {},
          "output_type": "execute_result"
        }
      ]
    },
    {
      "cell_type": "code",
      "metadata": {
        "execution": {
          "iopub.execute_input": "2021-11-13T10:20:32.274127Z",
          "iopub.status.busy": "2021-11-13T10:20:32.273855Z",
          "iopub.status.idle": "2021-11-13T10:20:32.296992Z",
          "shell.execute_reply": "2021-11-13T10:20:32.295936Z",
          "shell.execute_reply.started": "2021-11-13T10:20:32.274099Z"
        },
        "scrolled": true,
        "id": "rc4oVVYosa_Z",
        "outputId": "c4bf7958-dd1f-4cba-ba79-64792c9dffa7"
      },
      "source": [
        "# some data exploration\n",
        "display(train_df[~train_df[\"location\"].isnull()].head())\n",
        "display(train_df[train_df[\"target\"] == 0][\"text\"].values[1])\n",
        "display(train_df[train_df[\"target\"] == 1][\"text\"].values[1])"
      ],
      "execution_count": null,
      "outputs": [
        {
          "data": {
            "text/html": [
              "<div>\n",
              "<style scoped>\n",
              "    .dataframe tbody tr th:only-of-type {\n",
              "        vertical-align: middle;\n",
              "    }\n",
              "\n",
              "    .dataframe tbody tr th {\n",
              "        vertical-align: top;\n",
              "    }\n",
              "\n",
              "    .dataframe thead th {\n",
              "        text-align: right;\n",
              "    }\n",
              "</style>\n",
              "<table border=\"1\" class=\"dataframe\">\n",
              "  <thead>\n",
              "    <tr style=\"text-align: right;\">\n",
              "      <th></th>\n",
              "      <th>id</th>\n",
              "      <th>keyword</th>\n",
              "      <th>location</th>\n",
              "      <th>text</th>\n",
              "      <th>target</th>\n",
              "    </tr>\n",
              "  </thead>\n",
              "  <tbody>\n",
              "    <tr>\n",
              "      <th>31</th>\n",
              "      <td>48</td>\n",
              "      <td>ablaze</td>\n",
              "      <td>Birmingham</td>\n",
              "      <td>@bbcmtd Wholesale Markets ablaze http://t.co/l...</td>\n",
              "      <td>1</td>\n",
              "    </tr>\n",
              "    <tr>\n",
              "      <th>32</th>\n",
              "      <td>49</td>\n",
              "      <td>ablaze</td>\n",
              "      <td>Est. September 2012 - Bristol</td>\n",
              "      <td>We always try to bring the heavy. #metal #RT h...</td>\n",
              "      <td>0</td>\n",
              "    </tr>\n",
              "    <tr>\n",
              "      <th>33</th>\n",
              "      <td>50</td>\n",
              "      <td>ablaze</td>\n",
              "      <td>AFRICA</td>\n",
              "      <td>#AFRICANBAZE: Breaking news:Nigeria flag set a...</td>\n",
              "      <td>1</td>\n",
              "    </tr>\n",
              "    <tr>\n",
              "      <th>34</th>\n",
              "      <td>52</td>\n",
              "      <td>ablaze</td>\n",
              "      <td>Philadelphia, PA</td>\n",
              "      <td>Crying out for more! Set me ablaze</td>\n",
              "      <td>0</td>\n",
              "    </tr>\n",
              "    <tr>\n",
              "      <th>35</th>\n",
              "      <td>53</td>\n",
              "      <td>ablaze</td>\n",
              "      <td>London, UK</td>\n",
              "      <td>On plus side LOOK AT THE SKY LAST NIGHT IT WAS...</td>\n",
              "      <td>0</td>\n",
              "    </tr>\n",
              "  </tbody>\n",
              "</table>\n",
              "</div>"
            ],
            "text/plain": [
              "    id keyword                       location  \\\n",
              "31  48  ablaze                     Birmingham   \n",
              "32  49  ablaze  Est. September 2012 - Bristol   \n",
              "33  50  ablaze                         AFRICA   \n",
              "34  52  ablaze               Philadelphia, PA   \n",
              "35  53  ablaze                     London, UK   \n",
              "\n",
              "                                                 text  target  \n",
              "31  @bbcmtd Wholesale Markets ablaze http://t.co/l...       1  \n",
              "32  We always try to bring the heavy. #metal #RT h...       0  \n",
              "33  #AFRICANBAZE: Breaking news:Nigeria flag set a...       1  \n",
              "34                 Crying out for more! Set me ablaze       0  \n",
              "35  On plus side LOOK AT THE SKY LAST NIGHT IT WAS...       0  "
            ]
          },
          "metadata": {},
          "output_type": "display_data"
        },
        {
          "data": {
            "text/plain": [
              "'I love fruits'"
            ]
          },
          "metadata": {},
          "output_type": "display_data"
        },
        {
          "data": {
            "text/plain": [
              "'Forest fire near La Ronge Sask. Canada'"
            ]
          },
          "metadata": {},
          "output_type": "display_data"
        }
      ]
    },
    {
      "cell_type": "markdown",
      "metadata": {
        "id": "hdzfA0ghsa_a"
      },
      "source": [
        "<a id=\"Text_Preprocessing\"></a>\n",
        "\n",
        "# Text Preprocessing:\n",
        "\n",
        "<a id=\"Capitalization\"></a>\n"
      ]
    },
    {
      "cell_type": "code",
      "metadata": {
        "execution": {
          "iopub.execute_input": "2021-11-13T10:20:32.299060Z",
          "iopub.status.busy": "2021-11-13T10:20:32.298617Z",
          "iopub.status.idle": "2021-11-13T10:20:32.319369Z",
          "shell.execute_reply": "2021-11-13T10:20:32.318525Z",
          "shell.execute_reply.started": "2021-11-13T10:20:32.299030Z"
        },
        "scrolled": true,
        "id": "OWeraArQsa_a",
        "outputId": "87b4a9c0-3277-41c9-f473-6df847b3e63d"
      },
      "source": [
        "#Write the code to remove all text capitalization and save it in a column called \"text_clean\"\n",
        "# Complete the code below\n",
        "# Hint: Use pandas apply()\n",
        "train_df[\"text_clean\"] = train_df[\"text\"].str.lower()\n",
        "\n",
        "train_df.head()"
      ],
      "execution_count": null,
      "outputs": [
        {
          "data": {
            "text/html": [
              "<div>\n",
              "<style scoped>\n",
              "    .dataframe tbody tr th:only-of-type {\n",
              "        vertical-align: middle;\n",
              "    }\n",
              "\n",
              "    .dataframe tbody tr th {\n",
              "        vertical-align: top;\n",
              "    }\n",
              "\n",
              "    .dataframe thead th {\n",
              "        text-align: right;\n",
              "    }\n",
              "</style>\n",
              "<table border=\"1\" class=\"dataframe\">\n",
              "  <thead>\n",
              "    <tr style=\"text-align: right;\">\n",
              "      <th></th>\n",
              "      <th>id</th>\n",
              "      <th>keyword</th>\n",
              "      <th>location</th>\n",
              "      <th>text</th>\n",
              "      <th>target</th>\n",
              "      <th>text_clean</th>\n",
              "    </tr>\n",
              "  </thead>\n",
              "  <tbody>\n",
              "    <tr>\n",
              "      <th>0</th>\n",
              "      <td>1</td>\n",
              "      <td>NaN</td>\n",
              "      <td>NaN</td>\n",
              "      <td>Our Deeds are the Reason of this #earthquake M...</td>\n",
              "      <td>1</td>\n",
              "      <td>our deeds are the reason of this #earthquake m...</td>\n",
              "    </tr>\n",
              "    <tr>\n",
              "      <th>1</th>\n",
              "      <td>4</td>\n",
              "      <td>NaN</td>\n",
              "      <td>NaN</td>\n",
              "      <td>Forest fire near La Ronge Sask. Canada</td>\n",
              "      <td>1</td>\n",
              "      <td>forest fire near la ronge sask. canada</td>\n",
              "    </tr>\n",
              "    <tr>\n",
              "      <th>2</th>\n",
              "      <td>5</td>\n",
              "      <td>NaN</td>\n",
              "      <td>NaN</td>\n",
              "      <td>All residents asked to 'shelter in place' are ...</td>\n",
              "      <td>1</td>\n",
              "      <td>all residents asked to 'shelter in place' are ...</td>\n",
              "    </tr>\n",
              "    <tr>\n",
              "      <th>3</th>\n",
              "      <td>6</td>\n",
              "      <td>NaN</td>\n",
              "      <td>NaN</td>\n",
              "      <td>13,000 people receive #wildfires evacuation or...</td>\n",
              "      <td>1</td>\n",
              "      <td>13,000 people receive #wildfires evacuation or...</td>\n",
              "    </tr>\n",
              "    <tr>\n",
              "      <th>4</th>\n",
              "      <td>7</td>\n",
              "      <td>NaN</td>\n",
              "      <td>NaN</td>\n",
              "      <td>Just got sent this photo from Ruby #Alaska as ...</td>\n",
              "      <td>1</td>\n",
              "      <td>just got sent this photo from ruby #alaska as ...</td>\n",
              "    </tr>\n",
              "  </tbody>\n",
              "</table>\n",
              "</div>"
            ],
            "text/plain": [
              "   id keyword location                                               text  \\\n",
              "0   1     NaN      NaN  Our Deeds are the Reason of this #earthquake M...   \n",
              "1   4     NaN      NaN             Forest fire near La Ronge Sask. Canada   \n",
              "2   5     NaN      NaN  All residents asked to 'shelter in place' are ...   \n",
              "3   6     NaN      NaN  13,000 people receive #wildfires evacuation or...   \n",
              "4   7     NaN      NaN  Just got sent this photo from Ruby #Alaska as ...   \n",
              "\n",
              "   target                                         text_clean  \n",
              "0       1  our deeds are the reason of this #earthquake m...  \n",
              "1       1             forest fire near la ronge sask. canada  \n",
              "2       1  all residents asked to 'shelter in place' are ...  \n",
              "3       1  13,000 people receive #wildfires evacuation or...  \n",
              "4       1  just got sent this photo from ruby #alaska as ...  "
            ]
          },
          "execution_count": 4,
          "metadata": {},
          "output_type": "execute_result"
        }
      ]
    },
    {
      "cell_type": "markdown",
      "metadata": {
        "id": "fSuAGoAFsa_b"
      },
      "source": [
        "## Noise Removal \n",
        "Text data could include various unnecessary characters or punctuation such as URLs, HTML tags, non-ASCII characters, or other special characters (symbols, emojis, and other graphic characters). \n",
        "\n",
        "### Remove URLs"
      ]
    },
    {
      "cell_type": "code",
      "metadata": {
        "execution": {
          "iopub.execute_input": "2021-11-13T10:20:39.762075Z",
          "iopub.status.busy": "2021-11-13T10:20:39.761848Z",
          "iopub.status.idle": "2021-11-13T10:20:39.766745Z",
          "shell.execute_reply": "2021-11-13T10:20:39.765345Z",
          "shell.execute_reply.started": "2021-11-13T10:20:39.762051Z"
        },
        "scrolled": true,
        "id": "IWEXhiqHsa_c",
        "outputId": "90e11d16-89a9-4617-fe2d-37d04e1061bc"
      },
      "source": [
        "#complete the function below to remove urls\n",
        "\n",
        "def remove_URL(text):\n",
        "    \"\"\"\n",
        "        Remove URLs from a sample string\n",
        "    \"\"\"\n",
        "    text = re.sub(r'http:\\S+','',text)\n",
        "    text = re.sub(r'https:\\S+','',text)\n",
        "    return text\n",
        "\n",
        "# removing urls from the text\n",
        "train_df[\"text_clean\"] = train_df[\"text_clean\"].apply(lambda x: remove_URL(x))\n",
        "\n",
        "# double check\n",
        "print(train_df[\"text\"][31])\n",
        "print(train_df[\"text_clean\"][31])\n",
        "print(train_df[\"text\"][37])\n",
        "print(train_df[\"text_clean\"][37])\n",
        "print(train_df[\"text\"][62])\n",
        "print(train_df[\"text_clean\"][62])"
      ],
      "execution_count": null,
      "outputs": [
        {
          "name": "stdout",
          "output_type": "stream",
          "text": [
            "@bbcmtd Wholesale Markets ablaze http://t.co/lHYXEOHY6C\n",
            "@bbcmtd wholesale markets ablaze \n",
            "INEC Office in Abia Set Ablaze - http://t.co/3ImaomknnA\n",
            "inec office in abia set ablaze - \n",
            "Rene Ablaze &amp; Jacinta - Secret 2k13 (Fallen Skies Edit) - Mar 30 2013  https://t.co/7MLMsUzV1Z\n",
            "rene ablaze &amp; jacinta - secret 2k13 (fallen skies edit) - mar 30 2013  \n"
          ]
        }
      ]
    },
    {
      "cell_type": "markdown",
      "metadata": {
        "id": "Lmx1tpqTsa_c"
      },
      "source": [
        "<a id=\"Remove_HTML_tags\"></a>\n",
        "\n",
        "### Remove HTML tags"
      ]
    },
    {
      "cell_type": "code",
      "metadata": {
        "execution": {
          "iopub.execute_input": "2021-11-13T10:20:39.833807Z",
          "iopub.status.busy": "2021-11-13T10:20:39.833453Z",
          "iopub.status.idle": "2021-11-13T10:20:39.839093Z",
          "shell.execute_reply": "2021-11-13T10:20:39.837859Z",
          "shell.execute_reply.started": "2021-11-13T10:20:39.833777Z"
        },
        "scrolled": true,
        "id": "7UNdTd7isa_d",
        "outputId": "c798bccf-0191-4545-8d24-e0e38782b29e"
      },
      "source": [
        "#complete the function below to remove html tags\n",
        "\n",
        "\n",
        "def remove_html(text):\n",
        "    \"\"\"\n",
        "        Remove the html in sample text\n",
        "    \"\"\"\n",
        "    TAG_RE = re.compile(r'<[^>]+>')\n",
        "    return TAG_RE.sub('', text)\n",
        "\n",
        "\n",
        "# remove html from the text\n",
        "train_df[\"text_clean\"] = train_df[\"text_clean\"].apply(lambda x: remove_html(x))\n",
        "\n",
        "# double check\n",
        "print(train_df[\"text\"][62])\n",
        "print(train_df[\"text_clean\"][62])\n",
        "print(train_df[\"text\"][7385])\n",
        "print(train_df[\"text_clean\"][7385])"
      ],
      "execution_count": null,
      "outputs": [
        {
          "name": "stdout",
          "output_type": "stream",
          "text": [
            "Rene Ablaze &amp; Jacinta - Secret 2k13 (Fallen Skies Edit) - Mar 30 2013  https://t.co/7MLMsUzV1Z\n",
            "rene ablaze &amp; jacinta - secret 2k13 (fallen skies edit) - mar 30 2013  \n",
            "NW Michigan #WindStorm (Sheer) Recovery Updates: Leelanau &amp; Grand Traverse - State of Emergency 2b extended http://t.co/OSKfyj8CK7 #BeSafe\n",
            "nw michigan #windstorm (sheer) recovery updates: leelanau &amp; grand traverse - state of emergency 2b extended  #besafe\n"
          ]
        }
      ]
    },
    {
      "cell_type": "markdown",
      "metadata": {
        "id": "VYCBNh3Lsa_d"
      },
      "source": [
        "<a id=\"Remove_Non_ASCII\"></a>\n",
        "\n",
        "### Remove Non-ASCI:"
      ]
    },
    {
      "cell_type": "code",
      "metadata": {
        "execution": {
          "iopub.execute_input": "2021-11-13T10:20:39.909211Z",
          "iopub.status.busy": "2021-11-13T10:20:39.908999Z",
          "iopub.status.idle": "2021-11-13T10:20:39.913459Z",
          "shell.execute_reply": "2021-11-13T10:20:39.912481Z",
          "shell.execute_reply.started": "2021-11-13T10:20:39.909188Z"
        },
        "scrolled": true,
        "id": "CpRdV8iRsa_d",
        "outputId": "0ae7a54d-e62e-4b45-93d5-8934f5b836be"
      },
      "source": [
        "#complete the function below to remove non-ascii characters\n",
        "\n",
        "def remove_non_ascii(text):\n",
        "    \"\"\"\n",
        "        Remove non-ASCII characters \n",
        "    \"\"\"\n",
        "    text = re.sub(r\"[^\\x00-\\x7F]+\",'',text)\n",
        "    return text\n",
        "\n",
        "# removing non-ascii characters from the text\n",
        "train_df[\"text_clean\"] = train_df[\"text_clean\"].apply(lambda x: remove_non_ascii(x))\n",
        "\n",
        "# double check\n",
        "print(train_df[\"text\"][38])\n",
        "print(train_df[\"text_clean\"][38])\n",
        "print(train_df[\"text\"][7586])\n",
        "print(train_df[\"text_clean\"][7586])"
      ],
      "execution_count": null,
      "outputs": [
        {
          "name": "stdout",
          "output_type": "stream",
          "text": [
            "Barbados #Bridgetown JAMAICA ÛÒ Two cars set ablaze: SANTA CRUZ ÛÓ Head of the St Elizabeth Police Superintende...  http://t.co/wDUEaj8Q4J\n",
            "barbados #bridgetown jamaica  two cars set ablaze: santa cruz  head of the st elizabeth police superintende...  \n",
            "#Sismo DETECTADO #JapÌ_n 15:41:07 Seismic intensity 0 Iwate Miyagi JST #?? http://t.co/gMoUl9zQ2Q\n",
            "#sismo detectado #jap_n 15:41:07 seismic intensity 0 iwate miyagi jst #?? \n"
          ]
        }
      ]
    },
    {
      "cell_type": "markdown",
      "metadata": {
        "id": "oj7TX4G4sa_e"
      },
      "source": [
        "<a id=\"Remove_punctuations\"></a>\n",
        "\n",
        "## Remove punctuations:"
      ]
    },
    {
      "cell_type": "code",
      "metadata": {
        "execution": {
          "iopub.execute_input": "2021-11-13T10:20:39.953064Z",
          "iopub.status.busy": "2021-11-13T10:20:39.952769Z",
          "iopub.status.idle": "2021-11-13T10:20:39.958153Z",
          "shell.execute_reply": "2021-11-13T10:20:39.957085Z",
          "shell.execute_reply.started": "2021-11-13T10:20:39.953040Z"
        },
        "scrolled": true,
        "id": "KBTFX_pUsa_e",
        "outputId": "22910c0f-2173-43da-bf0f-dab5c3ed6f11"
      },
      "source": [
        "#complete the function below to remove punctuations\n",
        "\n",
        "def remove_punct(text):\n",
        "    \"\"\"\n",
        "        Remove the punctuation\n",
        "    \"\"\"\n",
        "    text = re.sub(r'[^\\w\\s]','',text)\n",
        "    return text\n",
        "\n",
        "# removing punctuations from the text\n",
        "train_df[\"text_clean\"] = train_df[\"text_clean\"].apply(lambda x: remove_punct(x))\n",
        "\n",
        "# double check\n",
        "print(train_df[\"text\"][5])\n",
        "print(train_df[\"text_clean\"][5])\n",
        "print(train_df[\"text\"][7597])\n",
        "print(train_df[\"text_clean\"][7597])"
      ],
      "execution_count": null,
      "outputs": [
        {
          "name": "stdout",
          "output_type": "stream",
          "text": [
            "#RockyFire Update => California Hwy. 20 closed in both directions due to Lake County fire - #CAfire #wildfires\n",
            "rockyfire update  california hwy 20 closed in both directions due to lake county fire  cafire wildfires\n",
            "#??? #?? #??? #??? MH370: Aircraft debris found on La Reunion is from missing Malaysia Airlines ... http://t.co/5B7qT2YxdA\n",
            "    mh370 aircraft debris found on la reunion is from missing malaysia airlines  \n"
          ]
        }
      ]
    },
    {
      "cell_type": "code",
      "metadata": {
        "id": "qq5RJzoIsa_f",
        "outputId": "07012aae-ab6d-4554-d60a-ebc0ff6b16a4"
      },
      "source": [
        "train_df.head()"
      ],
      "execution_count": null,
      "outputs": [
        {
          "data": {
            "text/html": [
              "<div>\n",
              "<style scoped>\n",
              "    .dataframe tbody tr th:only-of-type {\n",
              "        vertical-align: middle;\n",
              "    }\n",
              "\n",
              "    .dataframe tbody tr th {\n",
              "        vertical-align: top;\n",
              "    }\n",
              "\n",
              "    .dataframe thead th {\n",
              "        text-align: right;\n",
              "    }\n",
              "</style>\n",
              "<table border=\"1\" class=\"dataframe\">\n",
              "  <thead>\n",
              "    <tr style=\"text-align: right;\">\n",
              "      <th></th>\n",
              "      <th>id</th>\n",
              "      <th>keyword</th>\n",
              "      <th>location</th>\n",
              "      <th>text</th>\n",
              "      <th>target</th>\n",
              "      <th>text_clean</th>\n",
              "    </tr>\n",
              "  </thead>\n",
              "  <tbody>\n",
              "    <tr>\n",
              "      <th>0</th>\n",
              "      <td>1</td>\n",
              "      <td>NaN</td>\n",
              "      <td>NaN</td>\n",
              "      <td>Our Deeds are the Reason of this #earthquake M...</td>\n",
              "      <td>1</td>\n",
              "      <td>our deeds are the reason of this earthquake ma...</td>\n",
              "    </tr>\n",
              "    <tr>\n",
              "      <th>1</th>\n",
              "      <td>4</td>\n",
              "      <td>NaN</td>\n",
              "      <td>NaN</td>\n",
              "      <td>Forest fire near La Ronge Sask. Canada</td>\n",
              "      <td>1</td>\n",
              "      <td>forest fire near la ronge sask canada</td>\n",
              "    </tr>\n",
              "    <tr>\n",
              "      <th>2</th>\n",
              "      <td>5</td>\n",
              "      <td>NaN</td>\n",
              "      <td>NaN</td>\n",
              "      <td>All residents asked to 'shelter in place' are ...</td>\n",
              "      <td>1</td>\n",
              "      <td>all residents asked to shelter in place are be...</td>\n",
              "    </tr>\n",
              "    <tr>\n",
              "      <th>3</th>\n",
              "      <td>6</td>\n",
              "      <td>NaN</td>\n",
              "      <td>NaN</td>\n",
              "      <td>13,000 people receive #wildfires evacuation or...</td>\n",
              "      <td>1</td>\n",
              "      <td>13000 people receive wildfires evacuation orde...</td>\n",
              "    </tr>\n",
              "    <tr>\n",
              "      <th>4</th>\n",
              "      <td>7</td>\n",
              "      <td>NaN</td>\n",
              "      <td>NaN</td>\n",
              "      <td>Just got sent this photo from Ruby #Alaska as ...</td>\n",
              "      <td>1</td>\n",
              "      <td>just got sent this photo from ruby alaska as s...</td>\n",
              "    </tr>\n",
              "  </tbody>\n",
              "</table>\n",
              "</div>"
            ],
            "text/plain": [
              "   id keyword location                                               text  \\\n",
              "0   1     NaN      NaN  Our Deeds are the Reason of this #earthquake M...   \n",
              "1   4     NaN      NaN             Forest fire near La Ronge Sask. Canada   \n",
              "2   5     NaN      NaN  All residents asked to 'shelter in place' are ...   \n",
              "3   6     NaN      NaN  13,000 people receive #wildfires evacuation or...   \n",
              "4   7     NaN      NaN  Just got sent this photo from Ruby #Alaska as ...   \n",
              "\n",
              "   target                                         text_clean  \n",
              "0       1  our deeds are the reason of this earthquake ma...  \n",
              "1       1              forest fire near la ronge sask canada  \n",
              "2       1  all residents asked to shelter in place are be...  \n",
              "3       1  13000 people receive wildfires evacuation orde...  \n",
              "4       1  just got sent this photo from ruby alaska as s...  "
            ]
          },
          "execution_count": 9,
          "metadata": {},
          "output_type": "execute_result"
        }
      ]
    },
    {
      "cell_type": "markdown",
      "metadata": {
        "id": "ZRbKL-c3sa_f"
      },
      "source": [
        "<a id=\"Text_Preprocessing\"></a>\n",
        "\n",
        "# Text Preprocessing:\n",
        "\n",
        "<a id=\"Tokenization\"></a>\n",
        "## Tokenization\n",
        "Tokenization is a common technique that split a sentence into tokens, where a token could be characters, words, phrases, symbols, or other meaningful elements. By breaking sentences into smaller chunks, that would help to investigate the words in a sentence and also the subsequent steps in the NLP pipeline, such as stemming. "
      ]
    },
    {
      "cell_type": "code",
      "metadata": {
        "execution": {
          "iopub.execute_input": "2021-11-13T10:20:40.160184Z",
          "iopub.status.busy": "2021-11-13T10:20:40.159958Z",
          "iopub.status.idle": "2021-11-13T10:20:41.111234Z",
          "shell.execute_reply": "2021-11-13T10:20:41.109647Z",
          "shell.execute_reply.started": "2021-11-13T10:20:40.160161Z"
        },
        "scrolled": true,
        "id": "Nfcfv3Eosa_f",
        "outputId": "e4c4626e-6d2d-46cc-f8f9-b9362ddbb371"
      },
      "source": [
        "# Tokenizing the tweet base texts and save it in a column called \"tokenized\"\n",
        "from nltk.tokenize import word_tokenize\n",
        "train_df[\"tokenized\"] = train_df[\"text_clean\"].apply(lambda x: word_tokenize(x))\n",
        "train_df.head()"
      ],
      "execution_count": null,
      "outputs": [
        {
          "data": {
            "text/html": [
              "<div>\n",
              "<style scoped>\n",
              "    .dataframe tbody tr th:only-of-type {\n",
              "        vertical-align: middle;\n",
              "    }\n",
              "\n",
              "    .dataframe tbody tr th {\n",
              "        vertical-align: top;\n",
              "    }\n",
              "\n",
              "    .dataframe thead th {\n",
              "        text-align: right;\n",
              "    }\n",
              "</style>\n",
              "<table border=\"1\" class=\"dataframe\">\n",
              "  <thead>\n",
              "    <tr style=\"text-align: right;\">\n",
              "      <th></th>\n",
              "      <th>id</th>\n",
              "      <th>keyword</th>\n",
              "      <th>location</th>\n",
              "      <th>text</th>\n",
              "      <th>target</th>\n",
              "      <th>text_clean</th>\n",
              "      <th>tokenized</th>\n",
              "    </tr>\n",
              "  </thead>\n",
              "  <tbody>\n",
              "    <tr>\n",
              "      <th>0</th>\n",
              "      <td>1</td>\n",
              "      <td>NaN</td>\n",
              "      <td>NaN</td>\n",
              "      <td>Our Deeds are the Reason of this #earthquake M...</td>\n",
              "      <td>1</td>\n",
              "      <td>our deeds are the reason of this earthquake ma...</td>\n",
              "      <td>[our, deeds, are, the, reason, of, this, earth...</td>\n",
              "    </tr>\n",
              "    <tr>\n",
              "      <th>1</th>\n",
              "      <td>4</td>\n",
              "      <td>NaN</td>\n",
              "      <td>NaN</td>\n",
              "      <td>Forest fire near La Ronge Sask. Canada</td>\n",
              "      <td>1</td>\n",
              "      <td>forest fire near la ronge sask canada</td>\n",
              "      <td>[forest, fire, near, la, ronge, sask, canada]</td>\n",
              "    </tr>\n",
              "    <tr>\n",
              "      <th>2</th>\n",
              "      <td>5</td>\n",
              "      <td>NaN</td>\n",
              "      <td>NaN</td>\n",
              "      <td>All residents asked to 'shelter in place' are ...</td>\n",
              "      <td>1</td>\n",
              "      <td>all residents asked to shelter in place are be...</td>\n",
              "      <td>[all, residents, asked, to, shelter, in, place...</td>\n",
              "    </tr>\n",
              "    <tr>\n",
              "      <th>3</th>\n",
              "      <td>6</td>\n",
              "      <td>NaN</td>\n",
              "      <td>NaN</td>\n",
              "      <td>13,000 people receive #wildfires evacuation or...</td>\n",
              "      <td>1</td>\n",
              "      <td>13000 people receive wildfires evacuation orde...</td>\n",
              "      <td>[13000, people, receive, wildfires, evacuation...</td>\n",
              "    </tr>\n",
              "    <tr>\n",
              "      <th>4</th>\n",
              "      <td>7</td>\n",
              "      <td>NaN</td>\n",
              "      <td>NaN</td>\n",
              "      <td>Just got sent this photo from Ruby #Alaska as ...</td>\n",
              "      <td>1</td>\n",
              "      <td>just got sent this photo from ruby alaska as s...</td>\n",
              "      <td>[just, got, sent, this, photo, from, ruby, ala...</td>\n",
              "    </tr>\n",
              "  </tbody>\n",
              "</table>\n",
              "</div>"
            ],
            "text/plain": [
              "   id keyword location                                               text  \\\n",
              "0   1     NaN      NaN  Our Deeds are the Reason of this #earthquake M...   \n",
              "1   4     NaN      NaN             Forest fire near La Ronge Sask. Canada   \n",
              "2   5     NaN      NaN  All residents asked to 'shelter in place' are ...   \n",
              "3   6     NaN      NaN  13,000 people receive #wildfires evacuation or...   \n",
              "4   7     NaN      NaN  Just got sent this photo from Ruby #Alaska as ...   \n",
              "\n",
              "   target                                         text_clean  \\\n",
              "0       1  our deeds are the reason of this earthquake ma...   \n",
              "1       1              forest fire near la ronge sask canada   \n",
              "2       1  all residents asked to shelter in place are be...   \n",
              "3       1  13000 people receive wildfires evacuation orde...   \n",
              "4       1  just got sent this photo from ruby alaska as s...   \n",
              "\n",
              "                                           tokenized  \n",
              "0  [our, deeds, are, the, reason, of, this, earth...  \n",
              "1      [forest, fire, near, la, ronge, sask, canada]  \n",
              "2  [all, residents, asked, to, shelter, in, place...  \n",
              "3  [13000, people, receive, wildfires, evacuation...  \n",
              "4  [just, got, sent, this, photo, from, ruby, ala...  "
            ]
          },
          "execution_count": 10,
          "metadata": {},
          "output_type": "execute_result"
        }
      ]
    },
    {
      "cell_type": "markdown",
      "metadata": {
        "id": "Q9DDP-50sa_g"
      },
      "source": [
        "<a id=\"Remove_Stop_Words\"></a>\n",
        "\n",
        "## Remove Stop Words (or/and Frequent words/ Rare words):\n",
        "Stop words are common words in any language that occur with a high frequency but do not deliver meaningful information for the whole sentence. For example, {“a”, “about”, “above”, “across”, “after”, “afterward”, “again”, ...} can be considered as stop words. Traditionally, we could remove all of them in the text preprocessing stage. However, refer to the example from the [Natural Language Processing in Action](https://www.manning.com/books/natural-language-processing-in-action) book: \n",
        "> * Mark reported to the CEO\n",
        "> * Suzanne reported as the CEO to the board \n",
        "\n",
        "> In your NLP pipeline, you might create 4-grams such as reported to the CEO and reported as the CEO. If you remove the stop words from the 4-grams, both examples would be reduced to \"reported CEO\", and you would lack the information about the professional hierarchy. In the first example, Mark could have been an assistant to the CEO, whereas in the second example Suzanne was the CEO reporting to the board. Unfortunately, retaining the stop words within your pipeline creates another problem: it increases the length of the n-grams required to make use of these connections formed by the otherwise meaningless stop words. This issue forces us to retain at least 4-grams if you want to avoid the ambiguity of the human resources example.\n",
        "> Designing a filter for stop words depends on your particular application.\n",
        "\n",
        "In short, removing stop words is a common method in NLP text preprocessing, whereas, it needs to be experimented carefully depending on different situations. \n"
      ]
    },
    {
      "cell_type": "code",
      "metadata": {
        "execution": {
          "iopub.execute_input": "2021-11-13T10:20:41.113323Z",
          "iopub.status.busy": "2021-11-13T10:20:41.113005Z",
          "iopub.status.idle": "2021-11-13T10:20:41.155762Z",
          "shell.execute_reply": "2021-11-13T10:20:41.155096Z",
          "shell.execute_reply.started": "2021-11-13T10:20:41.113297Z"
        },
        "id": "A0s_-j5Qsa_g",
        "outputId": "82bfea73-abb6-417e-982b-efdea2478a3c"
      },
      "source": [
        "# Remove stopwords from train_df['tokenized'] and save it in another column called 'stopwords_removed'\n",
        "# Hint: Use pandas apply function with lambda function (the way we did in previous cells) and you can use list\n",
        "# comprehension to remove stop words\n",
        "\n",
        "nltk.download(\"stopwords\")\n",
        "from nltk.corpus import stopwords\n",
        "\n",
        "stop = set(stopwords.words('english'))\n",
        "#complete code below\n",
        "\n",
        "def remove_stp_words(l):\n",
        "    l1 = []\n",
        "    for i in l:\n",
        "        if i in stop:\n",
        "            continue\n",
        "        else:\n",
        "            l1.append(i)\n",
        "    return l1\n",
        "\n",
        "train_df[\"stopwords_removed\"] = train_df[\"tokenized\"].apply(lambda x: remove_stp_words(x))\n",
        "\n",
        "\n",
        "#for x in train_df[\"tokenized\"]:\n",
        "#    for i in x:\n",
        "#        train_df[\"stopwords\"] = l1.append(remove_stp_words(i))\n",
        "\n",
        "\n",
        "train_df.head()"
      ],
      "execution_count": null,
      "outputs": [
        {
          "name": "stderr",
          "output_type": "stream",
          "text": [
            "[nltk_data] Downloading package stopwords to C:\\Users\\Meet\n",
            "[nltk_data]     Mehta\\AppData\\Roaming\\nltk_data...\n",
            "[nltk_data]   Package stopwords is already up-to-date!\n"
          ]
        },
        {
          "data": {
            "text/html": [
              "<div>\n",
              "<style scoped>\n",
              "    .dataframe tbody tr th:only-of-type {\n",
              "        vertical-align: middle;\n",
              "    }\n",
              "\n",
              "    .dataframe tbody tr th {\n",
              "        vertical-align: top;\n",
              "    }\n",
              "\n",
              "    .dataframe thead th {\n",
              "        text-align: right;\n",
              "    }\n",
              "</style>\n",
              "<table border=\"1\" class=\"dataframe\">\n",
              "  <thead>\n",
              "    <tr style=\"text-align: right;\">\n",
              "      <th></th>\n",
              "      <th>id</th>\n",
              "      <th>keyword</th>\n",
              "      <th>location</th>\n",
              "      <th>text</th>\n",
              "      <th>target</th>\n",
              "      <th>text_clean</th>\n",
              "      <th>tokenized</th>\n",
              "      <th>stopwords_removed</th>\n",
              "    </tr>\n",
              "  </thead>\n",
              "  <tbody>\n",
              "    <tr>\n",
              "      <th>0</th>\n",
              "      <td>1</td>\n",
              "      <td>NaN</td>\n",
              "      <td>NaN</td>\n",
              "      <td>Our Deeds are the Reason of this #earthquake M...</td>\n",
              "      <td>1</td>\n",
              "      <td>our deeds are the reason of this earthquake ma...</td>\n",
              "      <td>[our, deeds, are, the, reason, of, this, earth...</td>\n",
              "      <td>[deeds, reason, earthquake, may, allah, forgiv...</td>\n",
              "    </tr>\n",
              "    <tr>\n",
              "      <th>1</th>\n",
              "      <td>4</td>\n",
              "      <td>NaN</td>\n",
              "      <td>NaN</td>\n",
              "      <td>Forest fire near La Ronge Sask. Canada</td>\n",
              "      <td>1</td>\n",
              "      <td>forest fire near la ronge sask canada</td>\n",
              "      <td>[forest, fire, near, la, ronge, sask, canada]</td>\n",
              "      <td>[forest, fire, near, la, ronge, sask, canada]</td>\n",
              "    </tr>\n",
              "    <tr>\n",
              "      <th>2</th>\n",
              "      <td>5</td>\n",
              "      <td>NaN</td>\n",
              "      <td>NaN</td>\n",
              "      <td>All residents asked to 'shelter in place' are ...</td>\n",
              "      <td>1</td>\n",
              "      <td>all residents asked to shelter in place are be...</td>\n",
              "      <td>[all, residents, asked, to, shelter, in, place...</td>\n",
              "      <td>[residents, asked, shelter, place, notified, o...</td>\n",
              "    </tr>\n",
              "    <tr>\n",
              "      <th>3</th>\n",
              "      <td>6</td>\n",
              "      <td>NaN</td>\n",
              "      <td>NaN</td>\n",
              "      <td>13,000 people receive #wildfires evacuation or...</td>\n",
              "      <td>1</td>\n",
              "      <td>13000 people receive wildfires evacuation orde...</td>\n",
              "      <td>[13000, people, receive, wildfires, evacuation...</td>\n",
              "      <td>[13000, people, receive, wildfires, evacuation...</td>\n",
              "    </tr>\n",
              "    <tr>\n",
              "      <th>4</th>\n",
              "      <td>7</td>\n",
              "      <td>NaN</td>\n",
              "      <td>NaN</td>\n",
              "      <td>Just got sent this photo from Ruby #Alaska as ...</td>\n",
              "      <td>1</td>\n",
              "      <td>just got sent this photo from ruby alaska as s...</td>\n",
              "      <td>[just, got, sent, this, photo, from, ruby, ala...</td>\n",
              "      <td>[got, sent, photo, ruby, alaska, smoke, wildfi...</td>\n",
              "    </tr>\n",
              "  </tbody>\n",
              "</table>\n",
              "</div>"
            ],
            "text/plain": [
              "   id keyword location                                               text  \\\n",
              "0   1     NaN      NaN  Our Deeds are the Reason of this #earthquake M...   \n",
              "1   4     NaN      NaN             Forest fire near La Ronge Sask. Canada   \n",
              "2   5     NaN      NaN  All residents asked to 'shelter in place' are ...   \n",
              "3   6     NaN      NaN  13,000 people receive #wildfires evacuation or...   \n",
              "4   7     NaN      NaN  Just got sent this photo from Ruby #Alaska as ...   \n",
              "\n",
              "   target                                         text_clean  \\\n",
              "0       1  our deeds are the reason of this earthquake ma...   \n",
              "1       1              forest fire near la ronge sask canada   \n",
              "2       1  all residents asked to shelter in place are be...   \n",
              "3       1  13000 people receive wildfires evacuation orde...   \n",
              "4       1  just got sent this photo from ruby alaska as s...   \n",
              "\n",
              "                                           tokenized  \\\n",
              "0  [our, deeds, are, the, reason, of, this, earth...   \n",
              "1      [forest, fire, near, la, ronge, sask, canada]   \n",
              "2  [all, residents, asked, to, shelter, in, place...   \n",
              "3  [13000, people, receive, wildfires, evacuation...   \n",
              "4  [just, got, sent, this, photo, from, ruby, ala...   \n",
              "\n",
              "                                   stopwords_removed  \n",
              "0  [deeds, reason, earthquake, may, allah, forgiv...  \n",
              "1      [forest, fire, near, la, ronge, sask, canada]  \n",
              "2  [residents, asked, shelter, place, notified, o...  \n",
              "3  [13000, people, receive, wildfires, evacuation...  \n",
              "4  [got, sent, photo, ruby, alaska, smoke, wildfi...  "
            ]
          },
          "execution_count": 11,
          "metadata": {},
          "output_type": "execute_result"
        }
      ]
    },
    {
      "cell_type": "markdown",
      "metadata": {
        "id": "Re79ENlssa_g"
      },
      "source": [
        "<a id=\"Stemming\"></a>\n",
        "\n",
        "## Stemming\n",
        "Stemming is a process of extracting a root word - identifying a common stem among various forms (e.g., singular and plural noun form) of a word, for example, the words \"gardening\", \"gardener\" or \"gardens\" share the same stem, garden. Stemming uproots suffixes from words to merge words with similar meanings under their standard stem.\n",
        "\n",
        "There are three major stemming algorithms in use nowadays:\n",
        "- **Porter** - PorterStemmer()): This stemming algorithm is an older one. It’s from the 1980s and its main concern is removing the common endings to words so that they can be resolved to a common form. It’s not too complex and development on it is frozen. Typically, it’s a nice starting basic stemmer, but it’s not really advised to use it for any production/complex application. Instead, it has its place in research as a nice, basic stemming algorithm that can guarantee reproducibility. It also is a very gentle stemming algorithm when compared to others.\n",
        "\n",
        "- **Snowball** -  SnowballStemmer(): This algorithm is also known as the Porter2 stemming algorithm. It is almost universally accepted as better than the Porter stemmer, even being acknowledged as such by the individual who created the Porter stemmer. That being said, it is also more aggressive than the Porter stemmer. A lot of the things added to the Snowball stemmer were because of issues noticed with the Porter stemmer. There is about a 5% difference in the way that Snowball stems versus Porter.\n",
        "\n",
        "- **Lancaster** -LancasterStemmer(): Just for fun, the Lancaster stemming algorithm is another algorithm that you can use. This one is the most aggressive stemming algorithm of the bunch. However, if you use the stemmer in NLTK, you can add your own custom rules to this algorithm very easily. It’s a good choice for that. One complaint around this stemming algorithm though is that it sometimes is overly aggressive and can really transform words into strange stems. Just make sure it does what you want it to before you go with this option!\n",
        "\n",
        "source: http://hunterheidenreich.com/blog/stemming-lemmatization-what/\n",
        "\n",
        "### PorterStemmer"
      ]
    },
    {
      "cell_type": "code",
      "metadata": {
        "execution": {
          "iopub.execute_input": "2021-11-13T10:20:41.157015Z",
          "iopub.status.busy": "2021-11-13T10:20:41.156792Z",
          "iopub.status.idle": "2021-11-13T10:20:41.162619Z",
          "shell.execute_reply": "2021-11-13T10:20:41.161640Z",
          "shell.execute_reply.started": "2021-11-13T10:20:41.156991Z"
        },
        "scrolled": true,
        "id": "BWmKKs9Xsa_h"
      },
      "source": [
        "from nltk.stem import PorterStemmer\n",
        "ps = PorterStemmer()\n",
        "\n",
        "def porter_stemmer(text):\n",
        "    \"\"\"\n",
        "    Stem words in list of tokenized words with PorterStemmer\n",
        "    \"\"\"\n",
        "    l1 = []\n",
        "    for i in text:\n",
        "        l1.append(ps.stem(i))\n",
        "    return l1\n",
        "    \n",
        "train_df['porter_stemmer'] = train_df['stopwords_removed'].apply(lambda x: porter_stemmer(x))"
      ],
      "execution_count": null,
      "outputs": []
    },
    {
      "cell_type": "markdown",
      "metadata": {
        "id": "UhoWfPJVsa_h"
      },
      "source": [
        "<a id=\"Lemmatization\"></a>\n",
        "\n",
        "## Lemmatization:\n",
        "According to the [Speech and Language Processing](https://web.stanford.edu/~jurafsky/slp3/ed3book.pdf) book:\n",
        "> Lemmatization is the task of determining that two words have the same root, despite their surface differences. The words am, are, and is have the shared lemma be; the words dinner and dinners both have the lemma dinner. Lemmatizing each of these forms to the same lemma will let us ﬁnd all mentions of words in Russian like Moscow. The lemmatized form of a sentence like He is reading detective stories would thus be He be read detective story.\n",
        "\n",
        "and the book [Natural Language Processing in Action](https://www.manning.com/books/natural-language-processing-in-action):\n",
        "> Some lemmatizers use the word’s part of speech (POS) tag in addition to its spelling to help improve accuracy. The POS tag for a word indicates its role in the grammar of a phrase or sentence. For example, the noun POS is for words that refer to “people, places, or things” within a phrase. An adjective POS is for a word that modifies or describes a noun. A verb refers to an action. The POS of a word in isolation cannot be determined. The context of a word must be known for its POS to be identified. So some advanced lemmatizers can’t be run-on words in isolation.\n",
        "\n",
        "For example, the \"good\", \"better\" or \"best\" is lemmatized into good and the verb \"gardening\" should be lemmatized to \"to garden\", while the \"garden\" and \"gardener\" are both different lemmas. In this notebook, we will also explore on both lemmatize on without POS-Tagging and POS-Tagging examples.\n"
      ]
    },
    {
      "cell_type": "markdown",
      "metadata": {
        "id": "IajkWhMGsa_h"
      },
      "source": [
        "<a id=\"Lemmatization\"></a>\n",
        "\n",
        "### Lemmatization:\n"
      ]
    },
    {
      "cell_type": "code",
      "metadata": {
        "execution": {
          "iopub.execute_input": "2021-11-13T10:20:48.176982Z",
          "iopub.status.busy": "2021-11-13T10:20:48.176700Z",
          "iopub.status.idle": "2021-11-13T10:20:48.785702Z",
          "shell.execute_reply": "2021-11-13T10:20:48.784673Z",
          "shell.execute_reply.started": "2021-11-13T10:20:48.176953Z"
        },
        "id": "O-JQwm16sa_h",
        "outputId": "883045d8-ae5b-4023-ea93-1d0e2d17f7a1"
      },
      "source": [
        "from nltk.stem import WordNetLemmatizer\n",
        "lm = WordNetLemmatizer()\n",
        "#Apply lemmatization on train_df['stopwords_removed'] and save it in train_df['lemmatize_word']\n",
        "def remove_lemmatized_word(txt):\n",
        "    l1 = []\n",
        "    for i in txt:\n",
        "        l1.append(lm.lemmatize(i))\n",
        "    return l1\n",
        "\n",
        "train_df['lemmatize_word'] = train_df['stopwords_removed'].apply(lambda x: remove_lemmatized_word(x)) \n",
        "\n",
        "# Next, remove any newly formed stop words in train_df['lemmatize_word']\n",
        "train_df[\"lemmatize_word\"] = train_df[\"lemmatize_word\"].apply(lambda x: remove_stp_words(x))\n",
        "\n",
        "#Joining the lemmatized tokens back to text\n",
        "train_df['lemmatize_text'] = [' '.join(map(str, l)) for l in train_df['lemmatize_word']] \n",
        "\n",
        "train_df.head()"
      ],
      "execution_count": null,
      "outputs": [
        {
          "data": {
            "text/html": [
              "<div>\n",
              "<style scoped>\n",
              "    .dataframe tbody tr th:only-of-type {\n",
              "        vertical-align: middle;\n",
              "    }\n",
              "\n",
              "    .dataframe tbody tr th {\n",
              "        vertical-align: top;\n",
              "    }\n",
              "\n",
              "    .dataframe thead th {\n",
              "        text-align: right;\n",
              "    }\n",
              "</style>\n",
              "<table border=\"1\" class=\"dataframe\">\n",
              "  <thead>\n",
              "    <tr style=\"text-align: right;\">\n",
              "      <th></th>\n",
              "      <th>id</th>\n",
              "      <th>keyword</th>\n",
              "      <th>location</th>\n",
              "      <th>text</th>\n",
              "      <th>target</th>\n",
              "      <th>text_clean</th>\n",
              "      <th>tokenized</th>\n",
              "      <th>stopwords_removed</th>\n",
              "      <th>porter_stemmer</th>\n",
              "      <th>lemmatize_word</th>\n",
              "      <th>lemmatize_text</th>\n",
              "    </tr>\n",
              "  </thead>\n",
              "  <tbody>\n",
              "    <tr>\n",
              "      <th>0</th>\n",
              "      <td>1</td>\n",
              "      <td>NaN</td>\n",
              "      <td>NaN</td>\n",
              "      <td>Our Deeds are the Reason of this #earthquake M...</td>\n",
              "      <td>1</td>\n",
              "      <td>our deeds are the reason of this earthquake ma...</td>\n",
              "      <td>[our, deeds, are, the, reason, of, this, earth...</td>\n",
              "      <td>[deeds, reason, earthquake, may, allah, forgiv...</td>\n",
              "      <td>[deed, reason, earthquak, may, allah, forgiv, us]</td>\n",
              "      <td>[deed, reason, earthquake, may, allah, forgive...</td>\n",
              "      <td>deed reason earthquake may allah forgive u</td>\n",
              "    </tr>\n",
              "    <tr>\n",
              "      <th>1</th>\n",
              "      <td>4</td>\n",
              "      <td>NaN</td>\n",
              "      <td>NaN</td>\n",
              "      <td>Forest fire near La Ronge Sask. Canada</td>\n",
              "      <td>1</td>\n",
              "      <td>forest fire near la ronge sask canada</td>\n",
              "      <td>[forest, fire, near, la, ronge, sask, canada]</td>\n",
              "      <td>[forest, fire, near, la, ronge, sask, canada]</td>\n",
              "      <td>[forest, fire, near, la, rong, sask, canada]</td>\n",
              "      <td>[forest, fire, near, la, ronge, sask, canada]</td>\n",
              "      <td>forest fire near la ronge sask canada</td>\n",
              "    </tr>\n",
              "    <tr>\n",
              "      <th>2</th>\n",
              "      <td>5</td>\n",
              "      <td>NaN</td>\n",
              "      <td>NaN</td>\n",
              "      <td>All residents asked to 'shelter in place' are ...</td>\n",
              "      <td>1</td>\n",
              "      <td>all residents asked to shelter in place are be...</td>\n",
              "      <td>[all, residents, asked, to, shelter, in, place...</td>\n",
              "      <td>[residents, asked, shelter, place, notified, o...</td>\n",
              "      <td>[resid, ask, shelter, place, notifi, offic, ev...</td>\n",
              "      <td>[resident, asked, shelter, place, notified, of...</td>\n",
              "      <td>resident asked shelter place notified officer ...</td>\n",
              "    </tr>\n",
              "    <tr>\n",
              "      <th>3</th>\n",
              "      <td>6</td>\n",
              "      <td>NaN</td>\n",
              "      <td>NaN</td>\n",
              "      <td>13,000 people receive #wildfires evacuation or...</td>\n",
              "      <td>1</td>\n",
              "      <td>13000 people receive wildfires evacuation orde...</td>\n",
              "      <td>[13000, people, receive, wildfires, evacuation...</td>\n",
              "      <td>[13000, people, receive, wildfires, evacuation...</td>\n",
              "      <td>[13000, peopl, receiv, wildfir, evacu, order, ...</td>\n",
              "      <td>[13000, people, receive, wildfire, evacuation,...</td>\n",
              "      <td>13000 people receive wildfire evacuation order...</td>\n",
              "    </tr>\n",
              "    <tr>\n",
              "      <th>4</th>\n",
              "      <td>7</td>\n",
              "      <td>NaN</td>\n",
              "      <td>NaN</td>\n",
              "      <td>Just got sent this photo from Ruby #Alaska as ...</td>\n",
              "      <td>1</td>\n",
              "      <td>just got sent this photo from ruby alaska as s...</td>\n",
              "      <td>[just, got, sent, this, photo, from, ruby, ala...</td>\n",
              "      <td>[got, sent, photo, ruby, alaska, smoke, wildfi...</td>\n",
              "      <td>[got, sent, photo, rubi, alaska, smoke, wildfi...</td>\n",
              "      <td>[got, sent, photo, ruby, alaska, smoke, wildfi...</td>\n",
              "      <td>got sent photo ruby alaska smoke wildfire pour...</td>\n",
              "    </tr>\n",
              "  </tbody>\n",
              "</table>\n",
              "</div>"
            ],
            "text/plain": [
              "   id keyword location                                               text  \\\n",
              "0   1     NaN      NaN  Our Deeds are the Reason of this #earthquake M...   \n",
              "1   4     NaN      NaN             Forest fire near La Ronge Sask. Canada   \n",
              "2   5     NaN      NaN  All residents asked to 'shelter in place' are ...   \n",
              "3   6     NaN      NaN  13,000 people receive #wildfires evacuation or...   \n",
              "4   7     NaN      NaN  Just got sent this photo from Ruby #Alaska as ...   \n",
              "\n",
              "   target                                         text_clean  \\\n",
              "0       1  our deeds are the reason of this earthquake ma...   \n",
              "1       1              forest fire near la ronge sask canada   \n",
              "2       1  all residents asked to shelter in place are be...   \n",
              "3       1  13000 people receive wildfires evacuation orde...   \n",
              "4       1  just got sent this photo from ruby alaska as s...   \n",
              "\n",
              "                                           tokenized  \\\n",
              "0  [our, deeds, are, the, reason, of, this, earth...   \n",
              "1      [forest, fire, near, la, ronge, sask, canada]   \n",
              "2  [all, residents, asked, to, shelter, in, place...   \n",
              "3  [13000, people, receive, wildfires, evacuation...   \n",
              "4  [just, got, sent, this, photo, from, ruby, ala...   \n",
              "\n",
              "                                   stopwords_removed  \\\n",
              "0  [deeds, reason, earthquake, may, allah, forgiv...   \n",
              "1      [forest, fire, near, la, ronge, sask, canada]   \n",
              "2  [residents, asked, shelter, place, notified, o...   \n",
              "3  [13000, people, receive, wildfires, evacuation...   \n",
              "4  [got, sent, photo, ruby, alaska, smoke, wildfi...   \n",
              "\n",
              "                                      porter_stemmer  \\\n",
              "0  [deed, reason, earthquak, may, allah, forgiv, us]   \n",
              "1       [forest, fire, near, la, rong, sask, canada]   \n",
              "2  [resid, ask, shelter, place, notifi, offic, ev...   \n",
              "3  [13000, peopl, receiv, wildfir, evacu, order, ...   \n",
              "4  [got, sent, photo, rubi, alaska, smoke, wildfi...   \n",
              "\n",
              "                                      lemmatize_word  \\\n",
              "0  [deed, reason, earthquake, may, allah, forgive...   \n",
              "1      [forest, fire, near, la, ronge, sask, canada]   \n",
              "2  [resident, asked, shelter, place, notified, of...   \n",
              "3  [13000, people, receive, wildfire, evacuation,...   \n",
              "4  [got, sent, photo, ruby, alaska, smoke, wildfi...   \n",
              "\n",
              "                                      lemmatize_text  \n",
              "0         deed reason earthquake may allah forgive u  \n",
              "1              forest fire near la ronge sask canada  \n",
              "2  resident asked shelter place notified officer ...  \n",
              "3  13000 people receive wildfire evacuation order...  \n",
              "4  got sent photo ruby alaska smoke wildfire pour...  "
            ]
          },
          "execution_count": 13,
          "metadata": {},
          "output_type": "execute_result"
        }
      ]
    },
    {
      "cell_type": "code",
      "metadata": {
        "execution": {
          "iopub.execute_input": "2021-11-13T10:20:49.466150Z",
          "iopub.status.busy": "2021-11-13T10:20:49.465755Z",
          "iopub.status.idle": "2021-11-13T10:20:49.473793Z",
          "shell.execute_reply": "2021-11-13T10:20:49.472384Z",
          "shell.execute_reply.started": "2021-11-13T10:20:49.466110Z"
        },
        "scrolled": true,
        "id": "FcozLQqnsa_i",
        "outputId": "abef0580-1ea9-4c9b-ce5c-850aee450f8d"
      },
      "source": [
        "#comparison between original text and lemmatized text\n",
        "\n",
        "print(train_df[\"text\"][8])\n",
        "print(train_df[\"lemmatize_word\"][8])\n"
      ],
      "execution_count": null,
      "outputs": [
        {
          "name": "stdout",
          "output_type": "stream",
          "text": [
            "There's an emergency evacuation happening now in the building across the street\n",
            "['emergency', 'evacuation', 'happening', 'building', 'across', 'street']\n"
          ]
        }
      ]
    },
    {
      "cell_type": "markdown",
      "metadata": {
        "id": "s5kF96F1sa_i"
      },
      "source": [
        "Comparison between original text and the lammatized text:"
      ]
    },
    {
      "cell_type": "code",
      "metadata": {
        "execution": {
          "iopub.execute_input": "2021-11-13T10:20:49.475416Z",
          "iopub.status.busy": "2021-11-13T10:20:49.475133Z",
          "iopub.status.idle": "2021-11-13T10:20:49.508126Z",
          "shell.execute_reply": "2021-11-13T10:20:49.507045Z",
          "shell.execute_reply.started": "2021-11-13T10:20:49.475386Z"
        },
        "id": "1PZwzCGvsa_i",
        "outputId": "a1dee3ef-5ac9-4895-88ac-e606ccc07a1b"
      },
      "source": [
        "display(train_df[\"text\"][0], train_df[\"lemmatize_text\"][0])\n",
        "display(train_df[\"text\"][5], train_df[\"lemmatize_text\"][5])\n",
        "display(train_df[\"text\"][10], train_df[\"lemmatize_text\"][10])\n",
        "display(train_df[\"text\"][15], train_df[\"lemmatize_text\"][15])\n",
        "display(train_df[\"text\"][20], train_df[\"lemmatize_text\"][20])"
      ],
      "execution_count": null,
      "outputs": [
        {
          "data": {
            "text/plain": [
              "'Our Deeds are the Reason of this #earthquake May ALLAH Forgive us all'"
            ]
          },
          "metadata": {},
          "output_type": "display_data"
        },
        {
          "data": {
            "text/plain": [
              "'deed reason earthquake may allah forgive u'"
            ]
          },
          "metadata": {},
          "output_type": "display_data"
        },
        {
          "data": {
            "text/plain": [
              "'#RockyFire Update => California Hwy. 20 closed in both directions due to Lake County fire - #CAfire #wildfires'"
            ]
          },
          "metadata": {},
          "output_type": "display_data"
        },
        {
          "data": {
            "text/plain": [
              "'rockyfire update california hwy 20 closed direction due lake county fire cafire wildfire'"
            ]
          },
          "metadata": {},
          "output_type": "display_data"
        },
        {
          "data": {
            "text/plain": [
              "'Three people died from the heat wave so far'"
            ]
          },
          "metadata": {},
          "output_type": "display_data"
        },
        {
          "data": {
            "text/plain": [
              "'three people died heat wave far'"
            ]
          },
          "metadata": {},
          "output_type": "display_data"
        },
        {
          "data": {
            "text/plain": [
              "\"What's up man?\""
            ]
          },
          "metadata": {},
          "output_type": "display_data"
        },
        {
          "data": {
            "text/plain": [
              "'whats man'"
            ]
          },
          "metadata": {},
          "output_type": "display_data"
        },
        {
          "data": {
            "text/plain": [
              "'this is ridiculous....'"
            ]
          },
          "metadata": {},
          "output_type": "display_data"
        },
        {
          "data": {
            "text/plain": [
              "'ridiculous'"
            ]
          },
          "metadata": {},
          "output_type": "display_data"
        }
      ]
    },
    {
      "cell_type": "markdown",
      "metadata": {
        "id": "GVDXEQp5sa_i"
      },
      "source": [
        "# Text Features Extraction:\n",
        "\n",
        "## Weighted Words - Bag of Words (BoW) - Bag of n-grams:\n",
        "**Watch this video: https://www.youtube.com/watch?v=IKgBLTeQQL8**\n",
        "\n",
        "* N-gram is a sequence that contains n-elements (characters, words, etc). A single word such a \"apple\", \"orange\" is a Uni-gram; hence, \"red apple\" \"big orange\" is bi-gram and \"red ripped apple\", \"big orange bag\" is tri-gram. \n",
        "* Bags of words: Vectors of word counts or frequencies \n",
        "* Bags of n-grams: Counts of word pairs (bigrams), triplets (trigrams), and so on\n",
        "\n",
        "> The bag-of-words/ bag-of-n-gram model is a reduced and simpliﬁed representation of a text document from selected parts of the text, based on speciﬁc criteria, such as word frequency.\n",
        "> \n",
        "> In a BoW, a body of text, such as a document or a sentence, is thought of like a bag of words. Lists of words are created in the BoW process. These words in a matrix are not sentences which structure sentences and grammar, and the semantic relationship between these words are ignored in their collection and construction. The words are often representative of the content of a sentence. While grammar and order of appearance are ignored, multiplicity is counted and may be used later to determine the focus points of the documents.\n",
        "> \n",
        "> Example:\n",
        "> Document\n",
        "> \n",
        "> “As the home to UVA’s recognized undergraduate and graduate degree programs in systems engineering. In the UVA Department of Systems and Information Engineering, our students are exposed to a wide range of range”\n",
        "> \n",
        "> Bag-of-Words (BoW):\n",
        "> {“As”, “the”, “home”, “to”, “UVA’s”, “recognized”, “undergraduate”, “and”, “graduate”, “degree”, “program”, “in”, “systems”, “engineering”, “in”, “Department”, “Information”,“students”, “ ”,“are”, “exposed”, “wide”, “range” }\n",
        "> \n",
        "> Bag-of-Feature (BoF)\n",
        "> Feature = {1,1,1,3,2,1,2,1,2,3,1,1,1,2,1,1,1,1,1,1}\n",
        "\n",
        "### Frequency Vectors - CountVectorizer:\n",
        "We will implement the Bag of Words/ Bag of n-grams text representation via sklearn - CountVectorizer function.\n",
        "The code will test with a sample corpus of the first five sentence of the dataset, then print out the output of uni-gram, bi-gram and tri-gram. Finaly, we also run on the whole dataset.\n",
        "\n"
      ]
    },
    {
      "cell_type": "code",
      "metadata": {
        "execution": {
          "iopub.execute_input": "2021-11-13T10:20:49.510031Z",
          "iopub.status.busy": "2021-11-13T10:20:49.509756Z",
          "iopub.status.idle": "2021-11-13T10:20:49.517122Z",
          "shell.execute_reply": "2021-11-13T10:20:49.516090Z",
          "shell.execute_reply.started": "2021-11-13T10:20:49.510003Z"
        },
        "scrolled": true,
        "id": "NH5T_sSasa_j",
        "outputId": "b7d0a8bf-c36f-4a3f-b961-e6110a4dd70d"
      },
      "source": [
        "from sklearn.feature_extraction.text import CountVectorizer\n",
        "\n",
        "# implement CountVectorizer for 1-gram, 2-gram and 3-gram on train_df[\"lemmatize_text\"].tolist()\n",
        "\n",
        "def cv(data, ngram, MAX_NB_WORDS = 75000):\n",
        "    \"\"\"\n",
        "        return transformed_dataset, CountVectorizer_object\n",
        "    \"\"\"\n",
        "    vect = CountVectorizer(ngram_range = (ngram,ngram))\n",
        "    d1 = vect.fit_transform(data)\n",
        "    return d1,vect\n",
        "\n",
        "# applying 1-gram, 2-gram and 3-gram into the whole dataset\n",
        "\n",
        "train_df_corpus = train_df[\"lemmatize_text\"].tolist()\n",
        "train_df_em_1gram, cv_1gram = cv(train_df_corpus, ngram=1)\n",
        "train_df_em_2gram, cv_2gram = cv(train_df_corpus, ngram=2)\n",
        "train_df_em_3gram, cv_3gram = cv(train_df_corpus, ngram=3)\n",
        "\n",
        "print(len(train_df_corpus))\n",
        "print(train_df_em_1gram.shape)\n",
        "print(train_df_em_2gram.shape)\n",
        "print(train_df_em_3gram.shape)"
      ],
      "execution_count": null,
      "outputs": [
        {
          "name": "stdout",
          "output_type": "stream",
          "text": [
            "7613\n",
            "(7613, 16448)\n",
            "(7613, 47232)\n",
            "(7613, 45142)\n"
          ]
        }
      ]
    },
    {
      "cell_type": "markdown",
      "metadata": {
        "id": "E4E5vdc1sa_j"
      },
      "source": [
        "<a id=\"TF_IDF\"></a>\n",
        "\n",
        "### Term Frequency-Inverse Document Frequency (TF-IDF):\n",
        "**Watch this video: https://www.youtube.com/watch?v=D2V1okCEsiE**\n",
        "> The Inverse Document Frequency (IDF) as a method to be used in conjunction with term frequency in order to lessen the effect of implicitly common words in the corpus. IDF assigns a higher weight to words with either high or low frequencies term in the document. This combination of TF and IDF is well known as Term Frequency-Inverse document frequency (TF-IDF). The mathematical representation of the weight of a term in a document by TF-IDF is given in Equation: \n",
        "> $$ W(d,t) = TF(d,t) * log \\frac{N}{df(t)}$$\n",
        "> Here N is the number of documents and $df(t)$ is the number of documents containing the term t in the corpus. The ﬁrst term in the equation improves the recall while the second term improves the precision of the word embedding. Although TF-IDF tries to overcome the problem of common terms in the document, it still suffers from some other descriptive limitations. Namely, TF-IDF cannot account for the similarity between the words in the document since each word is independently presented as an index. However, with the development of more complex models in recent years, new methods, such as word embedding, have been presented that can incorporate concepts such as similarity of words and part of speech tagging.\n",
        "\n",
        "(source: [Text Classification Algorithms: A Survey](https://arxiv.org/abs/1904.08067))\n",
        "\n",
        "We also implement the TF-IDF via sklearn TfidfVectorizer function, the experiments are similar to the previous section\n",
        "\n"
      ]
    },
    {
      "cell_type": "code",
      "metadata": {
        "execution": {
          "iopub.execute_input": "2021-11-13T10:20:52.328871Z",
          "iopub.status.busy": "2021-11-13T10:20:52.328590Z",
          "iopub.status.idle": "2021-11-13T10:20:52.345690Z",
          "shell.execute_reply": "2021-11-13T10:20:52.343526Z",
          "shell.execute_reply.started": "2021-11-13T10:20:52.328842Z"
        },
        "scrolled": true,
        "id": "8OMidfB6sa_j",
        "outputId": "0cdc6be6-a979-4ccb-e1e1-08f256a9a513"
      },
      "source": [
        "from sklearn.feature_extraction.text import TfidfVectorizer\n",
        "\n",
        "#implement tfid vectorizer for ngram=1, on train_df[\"lemmatize_text\"].tolist() and print its shape\n",
        "vect = TfidfVectorizer()\n",
        "def TFIDF(data, ngram = 1, MAX_NB_WORDS = 75000):\n",
        "    \"\"\"\n",
        "        return transformed_dataset, TfidfVectorizer_object\n",
        "    \"\"\"\n",
        "    vect.fit(data)\n",
        "    d1 = vect.transform(data)\n",
        "    return d1,vect\n",
        "\n",
        "train_df_corpus = train_df[\"lemmatize_text\"].tolist()\n",
        "train_df_tfidf_1gram, tfidf_1gram = TFIDF(train_df_corpus, 1)\n",
        "\n",
        "print(len(train_df_corpus))\n",
        "print(train_df_tfidf_1gram.shape)"
      ],
      "execution_count": null,
      "outputs": [
        {
          "name": "stdout",
          "output_type": "stream",
          "text": [
            "7613\n",
            "(7613, 16448)\n"
          ]
        }
      ]
    },
    {
      "cell_type": "markdown",
      "metadata": {
        "id": "5cJz7_59sa_j"
      },
      "source": [
        "<a id=\"Word_Embedding\"></a>\n",
        "\n",
        "## Word Embedding:\n",
        "\n",
        "> **Word vectors** are numerical vector representations of word semantics, or meaning, including literal and implied meaning. So word vectors can capture the connotation of words, like “peopleness,” “animalness,” “placeness,” “thingness,” and even “conceptness.” And they combine all that into a dense vector (no zeros) of floating point values. This dense vector enables queries and logical reasoning.\n",
        "\n",
        "(source: [Natural Language Processing in Action](https://www.manning.com/books/natural-language-processing-in-action))\n",
        "\n",
        "> Even though we have syntactic word representations, it does not mean that the model captures the semantics meaning of the words. On the other hand, bag-of-word models do not respect the semantics of the word. For example, words “airplane”, “aeroplane”, “plane”, and “aircraft” are often used in the same context. However, the vectors corresponding to these words are orthogonal in the bag-of-words model. This issue presents a serious problem to understanding sentences within the model. The other problem in the bag-of-word is that the order of words in the phrase is not respected. The n-gram does not solve this problem so a similarity needs to be found for each word in the sentence. Many researchers worked on word embedding to solve this problem. The Word2Vec propose a simple single-layer architecture based on the inner product between two word vectors.\n",
        "\n",
        "> Word embedding is a feature learning technique in which each word or phrase from the vocabulary is mapped to a N dimension vector of real numbers. Various word embedding methods have been proposed to translate unigrams into understandable input for machine learning algorithms. This work focuses on Word2Vec, GloVe, and FastText, three of the most common methods that have been successfully used for deep learning techniques.\n",
        "\n",
        "(source: [Text Classification Algorithms: A Survey](https://arxiv.org/abs/1904.08067))\n",
        "\n",
        "<a id=\"Basic_Word_Embedding\"></a>\n",
        "### Basic Word Embedding Methods:\n",
        "\n",
        "**Watch this video: https://www.youtube.com/watch?v=pO_6Jk0QtKw**\n",
        "#### Word2Vec:\n",
        "\n",
        "[T. Mikolov et al.](https://papers.nips.cc/paper/5021-distributed-representations-of-words-and-phrases-and-their-compositionality.pdf) presented the Word2vec in 2013, which learns the meaning of words merely by processing a large corpus of unlabeled text. The Word2Vec approach uses shallow neural networks with two hidden layers, continuous bag-of-words (CBOW), and the Skip-gram model to create a high dimension vector for each word. This unsupervised nature of Word2vec is what makes it so powerful. The world is full of unlabeled, uncategorized, unstructured natural language text.\n",
        "\n",
        "We will implement the Word2vec via gensim libary \n"
      ]
    },
    {
      "cell_type": "code",
      "metadata": {
        "id": "imn6D6kqsa_k",
        "outputId": "99450045-8cc4-4758-ce1a-9dbcad649fba"
      },
      "source": [
        "train_df.head()"
      ],
      "execution_count": null,
      "outputs": [
        {
          "data": {
            "text/html": [
              "<div>\n",
              "<style scoped>\n",
              "    .dataframe tbody tr th:only-of-type {\n",
              "        vertical-align: middle;\n",
              "    }\n",
              "\n",
              "    .dataframe tbody tr th {\n",
              "        vertical-align: top;\n",
              "    }\n",
              "\n",
              "    .dataframe thead th {\n",
              "        text-align: right;\n",
              "    }\n",
              "</style>\n",
              "<table border=\"1\" class=\"dataframe\">\n",
              "  <thead>\n",
              "    <tr style=\"text-align: right;\">\n",
              "      <th></th>\n",
              "      <th>id</th>\n",
              "      <th>keyword</th>\n",
              "      <th>location</th>\n",
              "      <th>text</th>\n",
              "      <th>target</th>\n",
              "      <th>text_clean</th>\n",
              "      <th>tokenized</th>\n",
              "      <th>stopwords_removed</th>\n",
              "      <th>porter_stemmer</th>\n",
              "      <th>lemmatize_word</th>\n",
              "      <th>lemmatize_text</th>\n",
              "    </tr>\n",
              "  </thead>\n",
              "  <tbody>\n",
              "    <tr>\n",
              "      <th>0</th>\n",
              "      <td>1</td>\n",
              "      <td>NaN</td>\n",
              "      <td>NaN</td>\n",
              "      <td>Our Deeds are the Reason of this #earthquake M...</td>\n",
              "      <td>1</td>\n",
              "      <td>our deeds are the reason of this earthquake ma...</td>\n",
              "      <td>[our, deeds, are, the, reason, of, this, earth...</td>\n",
              "      <td>[deeds, reason, earthquake, may, allah, forgiv...</td>\n",
              "      <td>[deed, reason, earthquak, may, allah, forgiv, us]</td>\n",
              "      <td>[deed, reason, earthquake, may, allah, forgive...</td>\n",
              "      <td>deed reason earthquake may allah forgive u</td>\n",
              "    </tr>\n",
              "    <tr>\n",
              "      <th>1</th>\n",
              "      <td>4</td>\n",
              "      <td>NaN</td>\n",
              "      <td>NaN</td>\n",
              "      <td>Forest fire near La Ronge Sask. Canada</td>\n",
              "      <td>1</td>\n",
              "      <td>forest fire near la ronge sask canada</td>\n",
              "      <td>[forest, fire, near, la, ronge, sask, canada]</td>\n",
              "      <td>[forest, fire, near, la, ronge, sask, canada]</td>\n",
              "      <td>[forest, fire, near, la, rong, sask, canada]</td>\n",
              "      <td>[forest, fire, near, la, ronge, sask, canada]</td>\n",
              "      <td>forest fire near la ronge sask canada</td>\n",
              "    </tr>\n",
              "    <tr>\n",
              "      <th>2</th>\n",
              "      <td>5</td>\n",
              "      <td>NaN</td>\n",
              "      <td>NaN</td>\n",
              "      <td>All residents asked to 'shelter in place' are ...</td>\n",
              "      <td>1</td>\n",
              "      <td>all residents asked to shelter in place are be...</td>\n",
              "      <td>[all, residents, asked, to, shelter, in, place...</td>\n",
              "      <td>[residents, asked, shelter, place, notified, o...</td>\n",
              "      <td>[resid, ask, shelter, place, notifi, offic, ev...</td>\n",
              "      <td>[resident, asked, shelter, place, notified, of...</td>\n",
              "      <td>resident asked shelter place notified officer ...</td>\n",
              "    </tr>\n",
              "    <tr>\n",
              "      <th>3</th>\n",
              "      <td>6</td>\n",
              "      <td>NaN</td>\n",
              "      <td>NaN</td>\n",
              "      <td>13,000 people receive #wildfires evacuation or...</td>\n",
              "      <td>1</td>\n",
              "      <td>13000 people receive wildfires evacuation orde...</td>\n",
              "      <td>[13000, people, receive, wildfires, evacuation...</td>\n",
              "      <td>[13000, people, receive, wildfires, evacuation...</td>\n",
              "      <td>[13000, peopl, receiv, wildfir, evacu, order, ...</td>\n",
              "      <td>[13000, people, receive, wildfire, evacuation,...</td>\n",
              "      <td>13000 people receive wildfire evacuation order...</td>\n",
              "    </tr>\n",
              "    <tr>\n",
              "      <th>4</th>\n",
              "      <td>7</td>\n",
              "      <td>NaN</td>\n",
              "      <td>NaN</td>\n",
              "      <td>Just got sent this photo from Ruby #Alaska as ...</td>\n",
              "      <td>1</td>\n",
              "      <td>just got sent this photo from ruby alaska as s...</td>\n",
              "      <td>[just, got, sent, this, photo, from, ruby, ala...</td>\n",
              "      <td>[got, sent, photo, ruby, alaska, smoke, wildfi...</td>\n",
              "      <td>[got, sent, photo, rubi, alaska, smoke, wildfi...</td>\n",
              "      <td>[got, sent, photo, ruby, alaska, smoke, wildfi...</td>\n",
              "      <td>got sent photo ruby alaska smoke wildfire pour...</td>\n",
              "    </tr>\n",
              "  </tbody>\n",
              "</table>\n",
              "</div>"
            ],
            "text/plain": [
              "   id keyword location                                               text  \\\n",
              "0   1     NaN      NaN  Our Deeds are the Reason of this #earthquake M...   \n",
              "1   4     NaN      NaN             Forest fire near La Ronge Sask. Canada   \n",
              "2   5     NaN      NaN  All residents asked to 'shelter in place' are ...   \n",
              "3   6     NaN      NaN  13,000 people receive #wildfires evacuation or...   \n",
              "4   7     NaN      NaN  Just got sent this photo from Ruby #Alaska as ...   \n",
              "\n",
              "   target                                         text_clean  \\\n",
              "0       1  our deeds are the reason of this earthquake ma...   \n",
              "1       1              forest fire near la ronge sask canada   \n",
              "2       1  all residents asked to shelter in place are be...   \n",
              "3       1  13000 people receive wildfires evacuation orde...   \n",
              "4       1  just got sent this photo from ruby alaska as s...   \n",
              "\n",
              "                                           tokenized  \\\n",
              "0  [our, deeds, are, the, reason, of, this, earth...   \n",
              "1      [forest, fire, near, la, ronge, sask, canada]   \n",
              "2  [all, residents, asked, to, shelter, in, place...   \n",
              "3  [13000, people, receive, wildfires, evacuation...   \n",
              "4  [just, got, sent, this, photo, from, ruby, ala...   \n",
              "\n",
              "                                   stopwords_removed  \\\n",
              "0  [deeds, reason, earthquake, may, allah, forgiv...   \n",
              "1      [forest, fire, near, la, ronge, sask, canada]   \n",
              "2  [residents, asked, shelter, place, notified, o...   \n",
              "3  [13000, people, receive, wildfires, evacuation...   \n",
              "4  [got, sent, photo, ruby, alaska, smoke, wildfi...   \n",
              "\n",
              "                                      porter_stemmer  \\\n",
              "0  [deed, reason, earthquak, may, allah, forgiv, us]   \n",
              "1       [forest, fire, near, la, rong, sask, canada]   \n",
              "2  [resid, ask, shelter, place, notifi, offic, ev...   \n",
              "3  [13000, peopl, receiv, wildfir, evacu, order, ...   \n",
              "4  [got, sent, photo, rubi, alaska, smoke, wildfi...   \n",
              "\n",
              "                                      lemmatize_word  \\\n",
              "0  [deed, reason, earthquake, may, allah, forgive...   \n",
              "1      [forest, fire, near, la, ronge, sask, canada]   \n",
              "2  [resident, asked, shelter, place, notified, of...   \n",
              "3  [13000, people, receive, wildfire, evacuation,...   \n",
              "4  [got, sent, photo, ruby, alaska, smoke, wildfi...   \n",
              "\n",
              "                                      lemmatize_text  \n",
              "0         deed reason earthquake may allah forgive u  \n",
              "1              forest fire near la ronge sask canada  \n",
              "2  resident asked shelter place notified officer ...  \n",
              "3  13000 people receive wildfire evacuation order...  \n",
              "4  got sent photo ruby alaska smoke wildfire pour...  "
            ]
          },
          "execution_count": 18,
          "metadata": {},
          "output_type": "execute_result"
        }
      ]
    },
    {
      "cell_type": "code",
      "metadata": {
        "id": "SJrlWA3tsa_k",
        "outputId": "2b2906b0-c446-4c69-b65d-5747101ee187"
      },
      "source": [
        "import gensim\n",
        "\n",
        "# train the Word2vec model on train_df[\"lemmatize_word\"].tolist()\n",
        "data = train_df[\"lemmatize_word\"].tolist()\n",
        "model = gensim.models.Word2Vec(data,min_count = 1,window = 5,vector_size = 100)\n",
        "\n",
        "# print summary of the model\n",
        "print(model)\n",
        "\n",
        "# print vector for any one word\n",
        "print(model.wv[\"forest\"])"
      ],
      "execution_count": null,
      "outputs": [
        {
          "name": "stdout",
          "output_type": "stream",
          "text": [
            "Word2Vec(vocab=16477, vector_size=100, alpha=0.025)\n",
            "[-0.00957015  0.03800026  0.04500914  0.02050158  0.00691212 -0.12118678\n",
            "  0.01138212  0.10651737 -0.03380483 -0.03869009 -0.02268567 -0.08254448\n",
            " -0.00389487  0.01320532  0.04273404 -0.02143612 -0.00016911 -0.08168752\n",
            "  0.01065422 -0.09190954  0.05134042  0.02741808  0.0379046  -0.03315211\n",
            " -0.05839326 -0.00705561 -0.05205249 -0.01718774 -0.03883591  0.02106371\n",
            "  0.08442055  0.00444922 -0.02116749 -0.04716323 -0.03032667  0.05430707\n",
            " -0.00525547 -0.05888369 -0.03339005 -0.09196434  0.01568779 -0.03670574\n",
            " -0.0272182   0.00555732  0.0372309  -0.00651039 -0.06343069  0.02223836\n",
            "  0.04326333  0.06247142  0.02881914 -0.04177687 -0.04651123 -0.03512252\n",
            " -0.04999211  0.02770218  0.04003112 -0.01026263 -0.02104088  0.01220504\n",
            "  0.0090109   0.02911761 -0.05768129  0.01728167 -0.05151172  0.05996922\n",
            " -0.00012538  0.04929783 -0.04404059  0.03255248 -0.06520921  0.01988813\n",
            "  0.08061714 -0.03104074  0.02627663  0.02369616  0.01308535  0.00304939\n",
            " -0.04652259  0.0281763  -0.04633366 -0.00973492 -0.05474247  0.08651116\n",
            "  0.02225552  0.00573339 -0.01278005  0.07552768  0.07308119  0.02053372\n",
            "  0.039189    0.03783525  0.00913487  0.02507032  0.0656746   0.03636083\n",
            "  0.02414161 -0.03814308  0.02594986  0.02603195]\n"
          ]
        }
      ]
    },
    {
      "cell_type": "code",
      "metadata": {
        "execution": {
          "iopub.execute_input": "2021-11-13T10:20:57.391319Z",
          "iopub.status.busy": "2021-11-13T10:20:57.391049Z",
          "iopub.status.idle": "2021-11-13T10:20:57.396403Z",
          "shell.execute_reply": "2021-11-13T10:20:57.395837Z",
          "shell.execute_reply.started": "2021-11-13T10:20:57.391291Z"
        },
        "id": "si1poZ73sa_k",
        "outputId": "8491628b-889d-4ced-e7a2-88434c02ba58"
      },
      "source": [
        "#print the similarity between any two words in the dataset\n",
        "print(model.wv.similarity(\"forest\",\"resident\"))"
      ],
      "execution_count": null,
      "outputs": [
        {
          "name": "stdout",
          "output_type": "stream",
          "text": [
            "0.66160005\n"
          ]
        }
      ]
    },
    {
      "cell_type": "markdown",
      "metadata": {
        "id": "NoModmKMsa_l"
      },
      "source": [
        "<a id=\"GloVe\"></a>\n",
        "\n",
        "#### Global Vectors for Word Representation (GloVe):\n",
        "> Another powerful word embedding technique that has been used for text classiﬁcation is [Global Vectors (GloVe)](https://nlp.stanford.edu/pubs/glove.pdf). The approach is very similar to the Word2Vec method, where each word is presented by a high dimension vector and trained based on the surrounding words over a huge corpus. The pre-trained word embedding used in many works is based on 400,000 vocabularies trained over Wikipedia 2014 and Gigaword 5 as the corpus and 50 dimensions for word presentation. GloVe also provides other pre-trained word vectorizations with 100, 200, 300 dimensions which are trained over even bigger corpora, including Twitter content.\n",
        "\n",
        "We will create our GloVe's sentence embeddings  via gensim libary with the pre-trained word vectors on the dataset from Wikipedia 2014 + Gigaword 5 (source: https://github.com/stanfordnlp/GloVe) and see the embedding output on the sample sentence from the our dataset. \n",
        "\n",
        "\n"
      ]
    },
    {
      "cell_type": "code",
      "metadata": {
        "execution": {
          "iopub.execute_input": "2021-11-13T10:20:58.560808Z",
          "iopub.status.busy": "2021-11-13T10:20:58.560428Z",
          "iopub.status.idle": "2021-11-13T10:22:43.013605Z",
          "shell.execute_reply": "2021-11-13T10:22:43.012543Z",
          "shell.execute_reply.started": "2021-11-13T10:20:58.560780Z"
        },
        "scrolled": true,
        "id": "ssayXGWlsa_l",
        "outputId": "0d58737e-e13d-497b-9ca0-81ef18f1ed78"
      },
      "source": [
        "from gensim.scripts.glove2word2vec import glove2word2vec\n",
        "import gensim\n",
        "#download glove embeddings from: https://www.kaggle.com/anindya2906/glove6b and save it in the same folder as this task\n",
        "\n",
        "glove_input_file = \"glove.6B.100d.txt\" #if you have named the file differently, then make changes here\n",
        "word2vec_output_file = \"glove.6B.100d.txt.word2vec\"\n",
        "glove2word2vec(glove_input_file, word2vec_output_file) #converting glove_input_file in word format to word2vec format\n",
        "\n",
        "glove_model = gensim.models.KeyedVectors.load_word2vec_format(word2vec_output_file, binary=False, limit=200000) "
      ],
      "execution_count": null,
      "outputs": [
        {
          "name": "stderr",
          "output_type": "stream",
          "text": [
            "C:\\Users\\MEETME~1\\AppData\\Local\\Temp/ipykernel_16700/2536238270.py:7: DeprecationWarning: Call to deprecated `glove2word2vec` (KeyedVectors.load_word2vec_format(.., binary=False, no_header=True) loads GLoVE text vectors.).\n",
            "  glove2word2vec(glove_input_file, word2vec_output_file) #converting glove_input_file in word format to word2vec format\n"
          ]
        }
      ]
    },
    {
      "cell_type": "markdown",
      "metadata": {
        "id": "qrnbJCQQsa_l"
      },
      "source": [
        "Compare the similarity between \"cat\" vs. \"kitten\" and \"cat\" vs. \"cats\" from GloVe"
      ]
    },
    {
      "cell_type": "code",
      "metadata": {
        "execution": {
          "iopub.execute_input": "2021-11-13T10:22:43.014821Z",
          "iopub.status.busy": "2021-11-13T10:22:43.014607Z",
          "iopub.status.idle": "2021-11-13T10:22:43.022062Z",
          "shell.execute_reply": "2021-11-13T10:22:43.021216Z",
          "shell.execute_reply.started": "2021-11-13T10:22:43.014799Z"
        },
        "id": "24INdCYJsa_l",
        "outputId": "f2f67fb0-2bcf-49de-ccec-14125cd458d8"
      },
      "source": [
        "# Compare the similarity between \"cat\" vs. \"kitten\" and \"cat\" vs. \"cats\" from the GloVe Model\n",
        "print(glove_model.similarity(\"cat\",\"kitten\"))\n",
        "print(glove_model.similarity(\"cat\",\"cats\"))"
      ],
      "execution_count": null,
      "outputs": [
        {
          "name": "stdout",
          "output_type": "stream",
          "text": [
            "0.55805016\n",
            "0.7323004\n"
          ]
        }
      ]
    },
    {
      "cell_type": "markdown",
      "metadata": {
        "id": "bFrHJ8sysa_l"
      },
      "source": [
        "## T-SNE"
      ]
    },
    {
      "cell_type": "markdown",
      "metadata": {
        "id": "VWYVqr6Ksa_l"
      },
      "source": [
        "**Watch This Video: https://www.youtube.com/watch?v=NEaUSP4YerM**<br>\n",
        "Now, lets visualize some of our embeddings. To plot embeddings with a dimensionality of 100 or more, we first need to map them to a dimensionality of 2. We do this with the popular t-SNE method. T-SNE, short for t-distributed Stochastic Neighbor Embedding, helps us visualize high-dimensional data by mapping similar data to nearby points and dissimilar data to distance points in the low-dimensional space.\n",
        "\n",
        "T-SNE is present in Scikit-learn. To run it, we just have to specify the number of dimensions we'd like to map the data to (n_components), and the similarity metric that t-SNE should use to compute the similarity between two data points (metric). We're going to map to 2 dimensions and use the cosine as our similarity metric. Additionally, we use PCA as an initialization method to remove some noise and speed up computation. The Scikit-learn user guide contains some additional tips for optimizing performance.\n",
        "\n",
        "Plotting all the embeddings in our vector space would result in a very crowded figure where the labels are hardly legible. Therefore we'll focus on a subset of embeddings by selecting the 200 most similar words to a target word.\n",
        "\n"
      ]
    },
    {
      "cell_type": "code",
      "metadata": {
        "id": "0T7HZbLysa_l",
        "outputId": "654eb35f-27d5-4edb-f910-eb893993ef94"
      },
      "source": [
        "#tSNE\n",
        "import pandas as pd\n",
        "import matplotlib\n",
        "import matplotlib.pyplot as plt\n",
        "\n",
        "from sklearn.manifold import TSNE\n",
        "\n",
        "target_word = \"body\"\n",
        "selected_words = [w[0] for w in model.wv.most_similar(positive=[target_word], topn=200)] + [target_word]\n",
        "embeddings = [model.wv[w] for w in selected_words] + model.wv[\"body\"]\n",
        "\n",
        "mapped_embeddings = TSNE(n_components=2, metric='cosine', init='pca').fit_transform(embeddings)"
      ],
      "execution_count": null,
      "outputs": [
        {
          "name": "stderr",
          "output_type": "stream",
          "text": [
            "C:\\Python39\\lib\\site-packages\\sklearn\\manifold\\_t_sne.py:790: FutureWarning: The default learning rate in TSNE will change from 200.0 to 'auto' in 1.2.\n",
            "  warnings.warn(\n",
            "C:\\Python39\\lib\\site-packages\\sklearn\\manifold\\_t_sne.py:819: FutureWarning: 'square_distances' has been introduced in 0.24 to help phase out legacy squaring behavior. The 'legacy' setting will be removed in 1.1 (renaming of 0.26), and the default setting will be changed to True. In 1.3, 'square_distances' will be removed altogether, and distances will be squared by default. Set 'square_distances'=True to silence this warning.\n",
            "  warnings.warn(\n",
            "C:\\Python39\\lib\\site-packages\\sklearn\\manifold\\_t_sne.py:982: FutureWarning: The PCA initialization in TSNE will change to have the standard deviation of PC1 equal to 1e-4 in 1.2. This will ensure better convergence.\n",
            "  warnings.warn(\n"
          ]
        }
      ]
    },
    {
      "cell_type": "code",
      "metadata": {
        "id": "XplcrnSGsa_m",
        "outputId": "513b33da-d29b-46f3-9328-c0f165b9f390"
      },
      "source": [
        "plt.figure(figsize=(20,20))\n",
        "x = mapped_embeddings[:,0]\n",
        "y = mapped_embeddings[:,1]\n",
        "plt.scatter(x, y)\n",
        "\n",
        "for i, txt in enumerate(selected_words):\n",
        "    plt.annotate(txt, (x[i], y[i]))"
      ],
      "execution_count": null,
      "outputs": [
        {
          "data": {
            "image/png": "[encoded data removed]",
            "text/plain": [
              "<Figure size 1440x1440 with 1 Axes>"
            ]
          },
          "metadata": {
            "needs_background": "light"
          },
          "output_type": "display_data"
        }
      ]
    }
  ]
}