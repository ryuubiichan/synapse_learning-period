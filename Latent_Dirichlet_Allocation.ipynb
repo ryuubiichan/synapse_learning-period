{
  "nbformat": 4,
  "nbformat_minor": 0,
  "metadata": {
    "kernelspec": {
      "display_name": "Python 3 (ipykernel)",
      "language": "python",
      "name": "python3"
    },
    "language_info": {
      "codemirror_mode": {
        "name": "ipython",
        "version": 3
      },
      "file_extension": ".py",
      "mimetype": "text/x-python",
      "name": "python",
      "nbconvert_exporter": "python",
      "pygments_lexer": "ipython3",
      "version": "3.9.7"
    },
    "colab": {
      "name": "Latent_Dirichlet_Allocation.ipynb",
      "provenance": [],
      "include_colab_link": true
    }
  },
  "cells": [
    {
      "cell_type": "markdown",
      "metadata": {
        "id": "view-in-github",
        "colab_type": "text"
      },
      "source": [
        "<a href=\"https://colab.research.google.com/github/ryuubiichan/synapse_learning-period/blob/nlp_week-2/Latent_Dirichlet_Allocation.ipynb\" target=\"_parent\"><img src=\"https://colab.research.google.com/assets/colab-badge.svg\" alt=\"Open In Colab\"/></a>"
      ]
    },
    {
      "cell_type": "markdown",
      "metadata": {
        "id": "aWRYsEtYx31b"
      },
      "source": [
        "## Latent Dirichlet Allocation ##\n",
        "**Watch these videos:**\n",
        "- https://www.youtube.com/watch?v=azXCzI57Yfc\n",
        "- https://www.youtube.com/watch?v=T05t-SqKArY\n",
        "- https://www.youtube.com/watch?v=BaM1uiCpj_E\n",
        "\n",
        "LDA is used to classify text in a document to a particular topic. It builds a topic per document model and words per topic model, modeled as Dirichlet distributions. \n",
        "\n",
        "* Each document is modeled as a multinomial distribution of topics and each topic is modeled as a multinomial distribution of words.\n",
        "* LDA assumes that the every chunk of text we feed into it will contain words that are somehow related. Therefore choosing the right corpus of data is crucial. \n",
        "* It also assumes documents are produced from a mixture of topics. Those topics then generate words based on their probability distribution. "
      ]
    },
    {
      "cell_type": "markdown",
      "metadata": {
        "id": "jnCuEMq-x31c"
      },
      "source": [
        "## Step 1: Load the dataset\n",
        "\n",
        "The dataset we'll use is a list of over one million news headlines published over a period of 15 years. We'll start by loading it from the `abcnews-date-text.csv` file."
      ]
    },
    {
      "cell_type": "code",
      "metadata": {
        "id": "WGxzjIWpx31d"
      },
      "source": [
        "'''\n",
        "Load the dataset from the CSV and save it to 'data_text'. We only need the'headline_text' column,\n",
        "so drop the rest of the columns. Call the final dataframe \"documents\" \n",
        "Then, add an 'index' column to the dataframe. Be sure to name it index.\n",
        "Hint: dataframe.index\n",
        "'''\n",
        "import numpy as np\n",
        "import pandas as pd\n",
        "data_text = pd.read_csv(\"/content/drive/MyDrive/abcnews-date-text.csv\")\n",
        "data_text.drop('publish_date',axis = \"columns\",inplace = True)\n",
        "index = []\n",
        "for i in range(1103665):\n",
        "    index.append(i)\n",
        "data_text[\"index\"] = index\n",
        "#data_text = data_text[[\"index\",\"headline_text\"]]"
      ],
      "execution_count": null,
      "outputs": []
    },
    {
      "cell_type": "markdown",
      "metadata": {
        "id": "tu3fI40zx31e"
      },
      "source": [
        "Let's glance at the dataset:"
      ]
    },
    {
      "cell_type": "code",
      "metadata": {
        "id": "umbD4WAIx31e"
      },
      "source": [
        "data_text.head()\n",
        "documents = data_text"
      ],
      "execution_count": null,
      "outputs": []
    },
    {
      "cell_type": "code",
      "metadata": {
        "id": "ZmRVgBzPx31f",
        "outputId": "387607cc-ca49-4e74-a3b5-caf1cd69eed3"
      },
      "source": [
        "'''\n",
        "print the total number of documents\n",
        "'''\n",
        "documents.info()\n"
      ],
      "execution_count": null,
      "outputs": [
        {
          "name": "stdout",
          "output_type": "stream",
          "text": [
            "<class 'pandas.core.frame.DataFrame'>\n",
            "RangeIndex: 1103665 entries, 0 to 1103664\n",
            "Data columns (total 2 columns):\n",
            " #   Column         Non-Null Count    Dtype \n",
            "---  ------         --------------    ----- \n",
            " 0   headline_text  1103665 non-null  object\n",
            " 1   index          1103665 non-null  int64 \n",
            "dtypes: int64(1), object(1)\n",
            "memory usage: 16.8+ MB\n"
          ]
        }
      ]
    },
    {
      "cell_type": "code",
      "metadata": {
        "id": "Gyt0-bELx31g",
        "outputId": "384b11de-dbc9-4491-9ff6-204a1f96eeef"
      },
      "source": [
        "documents[:5]"
      ],
      "execution_count": null,
      "outputs": [
        {
          "data": {
            "text/html": [
              "<div>\n",
              "<style scoped>\n",
              "    .dataframe tbody tr th:only-of-type {\n",
              "        vertical-align: middle;\n",
              "    }\n",
              "\n",
              "    .dataframe tbody tr th {\n",
              "        vertical-align: top;\n",
              "    }\n",
              "\n",
              "    .dataframe thead th {\n",
              "        text-align: right;\n",
              "    }\n",
              "</style>\n",
              "<table border=\"1\" class=\"dataframe\">\n",
              "  <thead>\n",
              "    <tr style=\"text-align: right;\">\n",
              "      <th></th>\n",
              "      <th>headline_text</th>\n",
              "      <th>index</th>\n",
              "    </tr>\n",
              "  </thead>\n",
              "  <tbody>\n",
              "    <tr>\n",
              "      <th>0</th>\n",
              "      <td>aba decides against community broadcasting lic...</td>\n",
              "      <td>0</td>\n",
              "    </tr>\n",
              "    <tr>\n",
              "      <th>1</th>\n",
              "      <td>act fire witnesses must be aware of defamation</td>\n",
              "      <td>1</td>\n",
              "    </tr>\n",
              "    <tr>\n",
              "      <th>2</th>\n",
              "      <td>a g calls for infrastructure protection summit</td>\n",
              "      <td>2</td>\n",
              "    </tr>\n",
              "    <tr>\n",
              "      <th>3</th>\n",
              "      <td>air nz staff in aust strike for pay rise</td>\n",
              "      <td>3</td>\n",
              "    </tr>\n",
              "    <tr>\n",
              "      <th>4</th>\n",
              "      <td>air nz strike to affect australian travellers</td>\n",
              "      <td>4</td>\n",
              "    </tr>\n",
              "  </tbody>\n",
              "</table>\n",
              "</div>"
            ],
            "text/plain": [
              "                                       headline_text  index\n",
              "0  aba decides against community broadcasting lic...      0\n",
              "1     act fire witnesses must be aware of defamation      1\n",
              "2     a g calls for infrastructure protection summit      2\n",
              "3           air nz staff in aust strike for pay rise      3\n",
              "4      air nz strike to affect australian travellers      4"
            ]
          },
          "execution_count": 4,
          "metadata": {},
          "output_type": "execute_result"
        }
      ]
    },
    {
      "cell_type": "markdown",
      "metadata": {
        "id": "Bi74XiVTx31g"
      },
      "source": [
        "## Step 2: Data Preprocessing ##\n",
        "\n",
        "We will perform the following steps:\n",
        "\n",
        "* **Tokenization**: Split the text into sentences and the sentences into words. Lowercase the words and remove punctuation.\n",
        "* Words that have fewer than 3 characters are removed.\n",
        "* All **stopwords** are removed.\n",
        "* Words are **lemmatized** - words in third person are changed to first person and verbs in past and future tenses are changed into present.\n",
        "* Words are **stemmed** - words are reduced to their root form.\n",
        "\n",
        "This time, we'll make use of the gensim library and show you how  to preprocess text easily. "
      ]
    },
    {
      "cell_type": "code",
      "metadata": {
        "id": "GWTYV2jLx31h"
      },
      "source": [
        "'''\n",
        "Loading Gensim and nltk libraries\n",
        "'''\n",
        "# pip install gensim\n",
        "import gensim\n",
        "from gensim.utils import simple_preprocess\n",
        "from gensim.parsing.preprocessing import STOPWORDS\n",
        "from nltk.stem import WordNetLemmatizer, SnowballStemmer\n",
        "from nltk.stem.porter import *\n",
        "import numpy as np\n",
        "np.random.seed(400)"
      ],
      "execution_count": null,
      "outputs": []
    },
    {
      "cell_type": "code",
      "metadata": {
        "id": "fc4gERugx31i",
        "outputId": "9dab5f8c-a74d-4d28-e458-a8ca72abc6a8"
      },
      "source": [
        "import nltk\n",
        "nltk.download('wordnet')"
      ],
      "execution_count": null,
      "outputs": [
        {
          "name": "stderr",
          "output_type": "stream",
          "text": [
            "[nltk_data] Downloading package wordnet to C:\\Users\\Meet\n",
            "[nltk_data]     Mehta\\AppData\\Roaming\\nltk_data...\n",
            "[nltk_data]   Package wordnet is already up-to-date!\n"
          ]
        },
        {
          "data": {
            "text/plain": [
              "True"
            ]
          },
          "execution_count": 6,
          "metadata": {},
          "output_type": "execute_result"
        }
      ]
    },
    {
      "cell_type": "markdown",
      "metadata": {
        "id": "3_5FSlRKx31i"
      },
      "source": [
        "### Lemmatizer Example\n",
        "Before preprocessing our dataset, let's first look at an lemmatizing example. What would be the output if we lemmatized the word 'went':"
      ]
    },
    {
      "cell_type": "code",
      "metadata": {
        "id": "hfwu1ANGx31i",
        "outputId": "a1350d4f-efa3-406e-c304-0823620e86e1"
      },
      "source": [
        "print(WordNetLemmatizer().lemmatize('went', pos = 'v')) # past tense to present tense"
      ],
      "execution_count": null,
      "outputs": [
        {
          "name": "stdout",
          "output_type": "stream",
          "text": [
            "go\n"
          ]
        }
      ]
    },
    {
      "cell_type": "markdown",
      "metadata": {
        "id": "Fs6Y66zgx31j"
      },
      "source": [
        "### Stemmer Example\n",
        "Let's also look at a stemming example. Let's throw a number of words at the stemmer and see how it deals with each one:"
      ]
    },
    {
      "cell_type": "code",
      "metadata": {
        "id": "2AzF_wBjx31j",
        "outputId": "fa4aabe7-f148-4737-e7bf-3168614d5a75"
      },
      "source": [
        "stemmer = SnowballStemmer(\"english\")\n",
        "original_words = ['caresses', 'flies', 'dies', 'mules', 'denied','died', 'agreed', 'owned', \n",
        "           'humbled', 'sized','meeting', 'stating', 'siezing', 'itemization','sensational', \n",
        "           'traditional', 'reference', 'colonizer','plotted']\n",
        "singles = [stemmer.stem(plural) for plural in original_words]\n",
        "\n",
        "pd.DataFrame(data={'original word':original_words, 'stemmed':singles })"
      ],
      "execution_count": null,
      "outputs": [
        {
          "data": {
            "text/html": [
              "<div>\n",
              "<style scoped>\n",
              "    .dataframe tbody tr th:only-of-type {\n",
              "        vertical-align: middle;\n",
              "    }\n",
              "\n",
              "    .dataframe tbody tr th {\n",
              "        vertical-align: top;\n",
              "    }\n",
              "\n",
              "    .dataframe thead th {\n",
              "        text-align: right;\n",
              "    }\n",
              "</style>\n",
              "<table border=\"1\" class=\"dataframe\">\n",
              "  <thead>\n",
              "    <tr style=\"text-align: right;\">\n",
              "      <th></th>\n",
              "      <th>original word</th>\n",
              "      <th>stemmed</th>\n",
              "    </tr>\n",
              "  </thead>\n",
              "  <tbody>\n",
              "    <tr>\n",
              "      <th>0</th>\n",
              "      <td>caresses</td>\n",
              "      <td>caress</td>\n",
              "    </tr>\n",
              "    <tr>\n",
              "      <th>1</th>\n",
              "      <td>flies</td>\n",
              "      <td>fli</td>\n",
              "    </tr>\n",
              "    <tr>\n",
              "      <th>2</th>\n",
              "      <td>dies</td>\n",
              "      <td>die</td>\n",
              "    </tr>\n",
              "    <tr>\n",
              "      <th>3</th>\n",
              "      <td>mules</td>\n",
              "      <td>mule</td>\n",
              "    </tr>\n",
              "    <tr>\n",
              "      <th>4</th>\n",
              "      <td>denied</td>\n",
              "      <td>deni</td>\n",
              "    </tr>\n",
              "    <tr>\n",
              "      <th>5</th>\n",
              "      <td>died</td>\n",
              "      <td>die</td>\n",
              "    </tr>\n",
              "    <tr>\n",
              "      <th>6</th>\n",
              "      <td>agreed</td>\n",
              "      <td>agre</td>\n",
              "    </tr>\n",
              "    <tr>\n",
              "      <th>7</th>\n",
              "      <td>owned</td>\n",
              "      <td>own</td>\n",
              "    </tr>\n",
              "    <tr>\n",
              "      <th>8</th>\n",
              "      <td>humbled</td>\n",
              "      <td>humbl</td>\n",
              "    </tr>\n",
              "    <tr>\n",
              "      <th>9</th>\n",
              "      <td>sized</td>\n",
              "      <td>size</td>\n",
              "    </tr>\n",
              "    <tr>\n",
              "      <th>10</th>\n",
              "      <td>meeting</td>\n",
              "      <td>meet</td>\n",
              "    </tr>\n",
              "    <tr>\n",
              "      <th>11</th>\n",
              "      <td>stating</td>\n",
              "      <td>state</td>\n",
              "    </tr>\n",
              "    <tr>\n",
              "      <th>12</th>\n",
              "      <td>siezing</td>\n",
              "      <td>siez</td>\n",
              "    </tr>\n",
              "    <tr>\n",
              "      <th>13</th>\n",
              "      <td>itemization</td>\n",
              "      <td>item</td>\n",
              "    </tr>\n",
              "    <tr>\n",
              "      <th>14</th>\n",
              "      <td>sensational</td>\n",
              "      <td>sensat</td>\n",
              "    </tr>\n",
              "    <tr>\n",
              "      <th>15</th>\n",
              "      <td>traditional</td>\n",
              "      <td>tradit</td>\n",
              "    </tr>\n",
              "    <tr>\n",
              "      <th>16</th>\n",
              "      <td>reference</td>\n",
              "      <td>refer</td>\n",
              "    </tr>\n",
              "    <tr>\n",
              "      <th>17</th>\n",
              "      <td>colonizer</td>\n",
              "      <td>colon</td>\n",
              "    </tr>\n",
              "    <tr>\n",
              "      <th>18</th>\n",
              "      <td>plotted</td>\n",
              "      <td>plot</td>\n",
              "    </tr>\n",
              "  </tbody>\n",
              "</table>\n",
              "</div>"
            ],
            "text/plain": [
              "   original word stemmed\n",
              "0       caresses  caress\n",
              "1          flies     fli\n",
              "2           dies     die\n",
              "3          mules    mule\n",
              "4         denied    deni\n",
              "5           died     die\n",
              "6         agreed    agre\n",
              "7          owned     own\n",
              "8        humbled   humbl\n",
              "9          sized    size\n",
              "10       meeting    meet\n",
              "11       stating   state\n",
              "12       siezing    siez\n",
              "13   itemization    item\n",
              "14   sensational  sensat\n",
              "15   traditional  tradit\n",
              "16     reference   refer\n",
              "17     colonizer   colon\n",
              "18       plotted    plot"
            ]
          },
          "execution_count": 8,
          "metadata": {},
          "output_type": "execute_result"
        }
      ]
    },
    {
      "cell_type": "code",
      "metadata": {
        "id": "rNUa8UNDx31j"
      },
      "source": [
        "'''\n",
        "Write a function to perform the pre processing steps on the entire dataset\n",
        "'''\n",
        "lm = WordNetLemmatizer()\n",
        "ss = SnowballStemmer(language = \"english\")\n",
        "def lemmatize_stemming(text):\n",
        "    '''\n",
        "        1) Lemmatize the text\n",
        "        2) Then, stem the text\n",
        "        3) return final text\n",
        "    '''\n",
        "    l1 = []\n",
        "    l1.append(lm.lemmatize(text))\n",
        "    l2 = []\n",
        "    for i in l1:\n",
        "        l2.append(stemmer.stem(i))\n",
        "    f_text = ''.join(i for i in l2)\n",
        "    return f_text \n",
        "\n",
        "# Tokenize and lemmatize. Look up how preprocessing is being done\n",
        "def preprocess(text):\n",
        "    result = []\n",
        "    for token in gensim.utils.simple_preprocess(text) :\n",
        "        if token not in gensim.parsing.preprocessing.STOPWORDS and len(token) > 3:\n",
        "            result.append(lemmatize_stemming(token))\n",
        "            # TODO: Apply lemmatize_stemming on the token, then add to the results list\n",
        "    return result"
      ],
      "execution_count": null,
      "outputs": []
    },
    {
      "cell_type": "code",
      "metadata": {
        "id": "N0aOY5zlx31k",
        "outputId": "e87a2454-62e3-4a0a-e746-5751aae929ce"
      },
      "source": [
        "'''\n",
        "Preview a document after preprocessing\n",
        "'''\n",
        "document_num = 4310\n",
        "doc_sample = documents[documents['index'] == document_num].values[0][0]\n",
        "print(doc_sample)\n",
        "print(\"Original document: \")\n",
        "words = []\n",
        "for word in doc_sample.split(' '):\n",
        "    words.append(word)\n",
        "print(words)\n",
        "print(\"\\n\\nTokenized and lemmatized document: \")\n",
        "print(preprocess(doc_sample))"
      ],
      "execution_count": null,
      "outputs": [
        {
          "name": "stdout",
          "output_type": "stream",
          "text": [
            "rain helps dampen bushfires\n",
            "Original document: \n",
            "['rain', 'helps', 'dampen', 'bushfires']\n",
            "\n",
            "\n",
            "Tokenized and lemmatized document: \n",
            "['rain', 'help', 'dampen', 'bushfir']\n"
          ]
        }
      ]
    },
    {
      "cell_type": "markdown",
      "metadata": {
        "id": "dB2yBD8Nx31k"
      },
      "source": [
        "Let's now preprocess all the news headlines we have. To do that, let's use the [map](https://pandas.pydata.org/pandas-docs/stable/generated/pandas.Series.map.html) function from pandas to apply `preprocess()` to the `headline_text` column\n",
        "\n",
        "**Note**: This may take a few minutes"
      ]
    },
    {
      "cell_type": "code",
      "metadata": {
        "id": "AQdQ0Zq9x31k"
      },
      "source": [
        "# TODO: preprocess all the headlines, saving the list of results as 'processed_docs'\n",
        "processed_docs = []\n",
        "processed_docs.append(documents[\"headline_text\"].apply(lambda y: preprocess(y)))"
      ],
      "execution_count": null,
      "outputs": []
    },
    {
      "cell_type": "code",
      "metadata": {
        "id": "eZKaFn9Zx31l",
        "outputId": "ea68c982-c15f-4117-cd21-48dac0e8d7f7"
      },
      "source": [
        "'''\n",
        "Preview 'processed_docs' \n",
        "'''\n",
        "processed_docs[:10]"
      ],
      "execution_count": null,
      "outputs": [
        {
          "data": {
            "text/plain": [
              "[0                      [decid, communiti, broadcast, licenc]\n",
              " 1                                         [wit, awar, defam]\n",
              " 2                     [call, infrastructur, protect, summit]\n",
              " 3                                [staff, aust, strike, rise]\n",
              " 4                       [strike, affect, australian, travel]\n",
              "                                  ...                        \n",
              " 1103660    [ash, smith, warner, near, miss, liven, box, t...\n",
              " 1103661                  [timelaps, brisban, year, firework]\n",
              " 1103662                              [meant, kid, australia]\n",
              " 1103663                     [papodopoulo, meet, mean, ausus]\n",
              " 1103664           [georg, papadopoulo, trump, campaign, aid]\n",
              " Name: headline_text, Length: 1103665, dtype: object]"
            ]
          },
          "execution_count": 12,
          "metadata": {},
          "output_type": "execute_result"
        }
      ]
    },
    {
      "cell_type": "markdown",
      "metadata": {
        "id": "UVE_VKMPx31l"
      },
      "source": [
        "## Step 3.1: Bag of words on the dataset\n",
        "\n",
        "Now let's create a dictionary from 'processed_docs' containing the number of times a word appears in the training set. To do that, let's pass `processed_docs` to [`gensim.corpora.Dictionary()`](https://radimrehurek.com/gensim/corpora/dictionary.html) and call it '`dictionary`'."
      ]
    },
    {
      "cell_type": "code",
      "metadata": {
        "id": "-dh4aVZax31l"
      },
      "source": [
        "'''\n",
        "Create a dictionary from 'processed_docs' containing the number of times a word appears \n",
        "in the training set using gensim.corpora.Dictionary and call it 'dictionary'\n",
        "'''\n",
        "# Todo\n",
        "dictionary = gensim.corpora.Dictionary(processed_docs[0])\n",
        "#dictionary.cfs"
      ],
      "execution_count": null,
      "outputs": []
    },
    {
      "cell_type": "code",
      "metadata": {
        "id": "ri_7trZ0x31m",
        "outputId": "df23bfc0-f797-47dd-9ec2-9e4499b3bc39"
      },
      "source": [
        "'''\n",
        "Checking dictionary created\n",
        "'''\n",
        "count = 0\n",
        "for k, v in dictionary.iteritems():\n",
        "    print(k, v)\n",
        "    count += 1\n",
        "    if count > 10:\n",
        "        break"
      ],
      "execution_count": null,
      "outputs": [
        {
          "name": "stdout",
          "output_type": "stream",
          "text": [
            "0 broadcast\n",
            "1 communiti\n",
            "2 decid\n",
            "3 licenc\n",
            "4 awar\n",
            "5 defam\n",
            "6 wit\n",
            "7 call\n",
            "8 infrastructur\n",
            "9 protect\n",
            "10 summit\n"
          ]
        }
      ]
    },
    {
      "cell_type": "markdown",
      "metadata": {
        "id": "GBcYs2TWx31m"
      },
      "source": [
        "** Gensim filter_extremes **\n",
        "\n",
        "[`filter_extremes(no_below=5, no_above=0.5, keep_n=100000)`](https://radimrehurek.com/gensim/corpora/dictionary.html#gensim.corpora.dictionary.Dictionary.filter_extremes)\n",
        "\n",
        "Filter out tokens that appear in\n",
        "\n",
        "* less than no_below documents (absolute number) or\n",
        "* more than no_above documents (fraction of total corpus size, not absolute number).\n",
        "* after (1) and (2), keep only the first keep_n most frequent tokens (or keep all if None)."
      ]
    },
    {
      "cell_type": "code",
      "metadata": {
        "id": "1F1KmF1nx31m"
      },
      "source": [
        "'''\n",
        "Remove very rare and very common words:\n",
        "\n",
        "- words appearing less than 15 times\n",
        "- words appearing in more than 10% of all documents\n",
        "- keep 100000 most frequent tokens\n",
        "'''\n",
        "# TODO: apply dictionary.filter_extremes() with the parameters mentioned above\n",
        "dictionary.filter_extremes(no_below = 15,no_above=0.1,keep_n = 100000)"
      ],
      "execution_count": null,
      "outputs": []
    },
    {
      "cell_type": "markdown",
      "metadata": {
        "id": "BMDa7JQwx31m"
      },
      "source": [
        "** Gensim doc2bow **\n",
        "\n",
        "[`doc2bow(document)`](https://radimrehurek.com/gensim/corpora/dictionary.html#gensim.corpora.dictionary.Dictionary.doc2bow)\n",
        "\n",
        "* Convert document (a list of words) into the bag-of-words format = list of (token_id, token_count) 2-tuples. Each word is assumed to be a tokenized and normalized string (either unicode or utf8-encoded). No further preprocessing is done on the words in document; apply tokenization, stemming etc. before calling this method."
      ]
    },
    {
      "cell_type": "code",
      "metadata": {
        "id": "AopMK5-ex31m"
      },
      "source": [
        "'''\n",
        "Create the Bag-of-words model for each document i.e for each document we create a dictionary reporting how many\n",
        "words and how many times those words appear. Save this to 'bow_corpus'.\n",
        "Hint: Since we want a BoW model for each document, you can use list comprehension instead of for loops. List\n",
        "comprehension is the more pythonic way.\n",
        "'''\n",
        "#  Todo\n",
        "from gensim.corpora import Dictionary\n",
        "#d1 = dictionary.cfs\n",
        "#document = [(a,b) for a,b in d1.items()]\n",
        "bow_corpus = [dictionary.doc2bow(document) for document in processed_docs[0]]"
      ],
      "execution_count": null,
      "outputs": []
    },
    {
      "cell_type": "code",
      "metadata": {
        "id": "lN4cFuq9x31n",
        "outputId": "6d7901a1-16e3-4d90-de92-87ce7acac665"
      },
      "source": [
        "'''\n",
        "Checking Bag of Words corpus for our sample document --> (token_id, token_count)\n",
        "'''\n",
        "bow_corpus[document_num]"
      ],
      "execution_count": null,
      "outputs": [
        {
          "data": {
            "text/plain": [
              "[(76, 1), (112, 1), (486, 1), (4041, 1)]"
            ]
          },
          "execution_count": 17,
          "metadata": {},
          "output_type": "execute_result"
        }
      ]
    },
    {
      "cell_type": "code",
      "metadata": {
        "id": "mLzIoO79x31n",
        "outputId": "4b04f0f9-b7d8-45d4-d5e9-3c45f6ec7c80"
      },
      "source": [
        "'''\n",
        "Preview BOW for our sample preprocessed document\n",
        "'''\n",
        "# Here document_num is document number 4310 which we have checked in Step 2\n",
        "bow_doc_4310 = bow_corpus[document_num]\n",
        "\n",
        "for i in range(len(bow_doc_4310)):\n",
        "    print(\"Word {} (\\\"{}\\\") appears {} time.\".format(bow_doc_4310[i][0], \n",
        "                                                     dictionary[bow_doc_4310[i][0]], \n",
        "                                                     bow_doc_4310[i][1]))"
      ],
      "execution_count": null,
      "outputs": [
        {
          "name": "stdout",
          "output_type": "stream",
          "text": [
            "Word 76 (\"bushfir\") appears 1 time.\n",
            "Word 112 (\"help\") appears 1 time.\n",
            "Word 486 (\"rain\") appears 1 time.\n",
            "Word 4041 (\"dampen\") appears 1 time.\n"
          ]
        }
      ]
    },
    {
      "cell_type": "markdown",
      "metadata": {
        "id": "ZLee1Q6dx31n"
      },
      "source": [
        "## Step 3.2: TF-IDF on our document set ##\n",
        "\n",
        "While performing TF-IDF on the corpus is not necessary for LDA implemention using the gensim model, it is recemmended. TF-IDF expects a bag-of-words (integer values) training corpus during initialization. During transformation, it will take a vector and return another vector of the same dimensionality.\n",
        "\n",
        "*Please note: The author of Gensim dictates the standard procedure for LDA to be using the Bag of Words model.*"
      ]
    },
    {
      "cell_type": "markdown",
      "metadata": {
        "id": "P9YtnLuWx31n"
      },
      "source": [
        "** TF-IDF stands for \"Term Frequency, Inverse Document Frequency\".**\n",
        "\n",
        "* It is a way to score the importance of words (or \"terms\") in a document based on how frequently they appear across multiple documents.\n",
        "* If a word appears frequently in a document, it's important. Give the word a high score. But if a word appears in many documents, it's not a unique identifier. Give the word a low score.\n",
        "* Therefore, common words like \"the\" and \"for\", which appear in many documents, will be scaled down. Words that appear frequently in a single document will be scaled up.\n",
        "\n",
        "In other words:\n",
        "\n",
        "* TF(w) = `(Number of times term w appears in a document) / (Total number of terms in the document)`.\n",
        "* IDF(w) = `log_e(Total number of documents / Number of documents with term w in it)`.\n",
        "\n",
        "** For example **\n",
        "\n",
        "* Consider a document containing `100` words wherein the word 'tiger' appears 3 times. \n",
        "* The term frequency (i.e., tf) for 'tiger' is then: \n",
        "    - `TF = (3 / 100) = 0.03`. \n",
        "\n",
        "* Now, assume we have `10 million` documents and the word 'tiger' appears in `1000` of these. Then, the inverse document frequency (i.e., idf) is calculated as:\n",
        "    - `IDF = log(10,000,000 / 1,000) = 4`. \n",
        "\n",
        "* Thus, the Tf-idf weight is the product of these quantities: \n",
        "    - `TF-IDF = 0.03 * 4 = 0.12`."
      ]
    },
    {
      "cell_type": "code",
      "metadata": {
        "id": "AqawSa9dx31o"
      },
      "source": [
        "'''\n",
        "Create tf-idf model object using models.TfidfModel on 'bow_corpus' and save it to 'tfidf'\n",
        "'''\n",
        "from gensim import corpora, models\n",
        "from gensim.models import TfidfModel\n",
        "from sklearn.feature_extraction.text import TfidfVectorizer\n",
        "\n",
        "tfidf = TfidfModel(bow_corpus)\n",
        "# TODO\n"
      ],
      "execution_count": null,
      "outputs": []
    },
    {
      "cell_type": "code",
      "metadata": {
        "id": "DRcYG9dfx31o"
      },
      "source": [
        "'''\n",
        "Apply transformation to the entire corpus and call it 'corpus_tfidf'\n",
        "'''\n",
        "corpus_tfidf = tfidf[bow_corpus]\n",
        "# TODO\n"
      ],
      "execution_count": null,
      "outputs": []
    },
    {
      "cell_type": "code",
      "metadata": {
        "id": "oV38mTV9x31o",
        "outputId": "d50576ad-f85a-49f2-f097-90c56daafde8"
      },
      "source": [
        "'''\n",
        "Preview TF-IDF scores for our first document --> --> (token_id, tfidf score)\n",
        "'''\n",
        "from pprint import pprint\n",
        "for doc in corpus_tfidf:\n",
        "    print(doc)\n",
        "    break"
      ],
      "execution_count": null,
      "outputs": [
        {
          "name": "stdout",
          "output_type": "stream",
          "text": [
            "[(0, 0.589272278034924), (1, 0.3892842954875021), (2, 0.49648286011932197), (3, 0.5046986122767408)]\n"
          ]
        }
      ]
    },
    {
      "cell_type": "markdown",
      "metadata": {
        "id": "18wfIr4rx31o"
      },
      "source": [
        "## Step 4.1: Running LDA using Bag of Words ##\n",
        "\n",
        "We are going for 10 topics in the document corpus.\n",
        "\n",
        "** We will be running LDA using all CPU cores to parallelize and speed up model training.**\n",
        "\n",
        "Some of the parameters we will be tweaking are:\n",
        "\n",
        "* **num_topics** is the number of requested latent topics to be extracted from the training corpus.\n",
        "* **id2word** is a mapping from word ids (integers) to words (strings). It is used to determine the vocabulary size, as well as for debugging and topic printing.\n",
        "* **workers** is the number of extra processes to use for parallelization. Uses all available cores by default.\n",
        "* **alpha** and **eta** are hyperparameters that affect sparsity of the document-topic (theta) and topic-word (lambda) distributions. We will let these be the default values for now(default value is `1/num_topics`)\n",
        "    - Alpha is the per document topic distribution.\n",
        "        * High alpha: Every document has a mixture of all topics(documents appear similar to each other).\n",
        "        * Low alpha: Every document has a mixture of very few topics\n",
        "\n",
        "    - Eta is the per topic word distribution.\n",
        "        * High eta: Each topic has a mixture of most words(topics appear similar to each other).\n",
        "        * Low eta: Each topic has a mixture of few words.\n",
        "\n",
        "* ** passes ** is the number of training passes through the corpus. For  example, if the training corpus has 50,000 documents, chunksize is  10,000, passes is 2, then online training is done in 10 updates: \n",
        "    * `#1 documents 0-9,999 `\n",
        "    * `#2 documents 10,000-19,999 `\n",
        "    * `#3 documents 20,000-29,999 `\n",
        "    * `#4 documents 30,000-39,999 `\n",
        "    * `#5 documents 40,000-49,999 `\n",
        "    * `#6 documents 0-9,999 `\n",
        "    * `#7 documents 10,000-19,999 `\n",
        "    * `#8 documents 20,000-29,999 `\n",
        "    * `#9 documents 30,000-39,999 `\n",
        "    * `#10 documents 40,000-49,999` "
      ]
    },
    {
      "cell_type": "code",
      "metadata": {
        "id": "dcmvpz-tx31o"
      },
      "source": [
        "# LDA multicore \n",
        "'''\n",
        "Train your lda model using gensim.models.LdaMulticore and save it to 'lda_model'\n",
        "\n",
        "If Multicore is throwing errors on you laptop, use LDA mono-core, gensim.models.LdaModel\n",
        "'''\n",
        "lda_model = gensim.models.LdaMulticore(bow_corpus,id2word = dictionary,num_topics = 10,workers = 6,alpha = 0.1,eta = 0.1)\n",
        "# TODO"
      ],
      "execution_count": null,
      "outputs": []
    },
    {
      "cell_type": "code",
      "metadata": {
        "id": "Te5lFWP4x31p",
        "outputId": "a0fd3b86-8f51-40ac-9fe1-0934e5105ac8"
      },
      "source": [
        "'''\n",
        "For each topic, we will explore the words occuring in that topic and its relative weight\n",
        "'''\n",
        "for idx, topic in lda_model.print_topics(-1):\n",
        "    print(\"Topic: {} \\nWords: {}\".format(idx, topic))\n",
        "    print(\"\\n\")"
      ],
      "execution_count": null,
      "outputs": [
        {
          "name": "stdout",
          "output_type": "stream",
          "text": [
            "Topic: 0 \n",
            "Words: 0.016*\"australia\" + 0.015*\"world\" + 0.014*\"win\" + 0.012*\"final\" + 0.009*\"test\" + 0.009*\"weather\" + 0.008*\"leagu\" + 0.008*\"star\" + 0.008*\"podcast\" + 0.007*\"tour\"\n",
            "\n",
            "\n",
            "Topic: 1 \n",
            "Words: 0.018*\"govern\" + 0.017*\"flood\" + 0.016*\"fund\" + 0.015*\"jail\" + 0.014*\"water\" + 0.010*\"sentenc\" + 0.010*\"defend\" + 0.010*\"game\" + 0.009*\"public\" + 0.009*\"budget\"\n",
            "\n",
            "\n",
            "Topic: 2 \n",
            "Words: 0.028*\"year\" + 0.022*\"plan\" + 0.015*\"trump\" + 0.013*\"council\" + 0.012*\"fear\" + 0.010*\"meet\" + 0.010*\"news\" + 0.009*\"port\" + 0.009*\"job\" + 0.008*\"region\"\n",
            "\n",
            "\n",
            "Topic: 3 \n",
            "Words: 0.016*\"rise\" + 0.014*\"live\" + 0.014*\"high\" + 0.010*\"season\" + 0.010*\"take\" + 0.010*\"open\" + 0.009*\"rate\" + 0.009*\"action\" + 0.008*\"cattl\" + 0.008*\"shark\"\n",
            "\n",
            "\n",
            "Topic: 4 \n",
            "Words: 0.023*\"queensland\" + 0.019*\"north\" + 0.019*\"south\" + 0.015*\"west\" + 0.013*\"power\" + 0.012*\"coast\" + 0.012*\"resid\" + 0.011*\"forc\" + 0.010*\"leader\" + 0.009*\"chang\"\n",
            "\n",
            "\n",
            "Topic: 5 \n",
            "Words: 0.021*\"market\" + 0.012*\"share\" + 0.011*\"urg\" + 0.010*\"say\" + 0.009*\"gold\" + 0.009*\"busi\" + 0.009*\"campaign\" + 0.008*\"abbott\" + 0.008*\"hous\" + 0.008*\"council\"\n",
            "\n",
            "\n",
            "Topic: 6 \n",
            "Words: 0.022*\"charg\" + 0.021*\"murder\" + 0.020*\"countri\" + 0.017*\"hour\" + 0.014*\"australia\" + 0.014*\"polic\" + 0.014*\"alleg\" + 0.013*\"arrest\" + 0.013*\"drug\" + 0.013*\"china\"\n",
            "\n",
            "\n",
            "Topic: 7 \n",
            "Words: 0.034*\"woman\" + 0.031*\"polic\" + 0.020*\"attack\" + 0.018*\"miss\" + 0.015*\"perth\" + 0.014*\"brisban\" + 0.013*\"return\" + 0.011*\"search\" + 0.011*\"death\" + 0.010*\"sydney\"\n",
            "\n",
            "\n",
            "Topic: 8 \n",
            "Words: 0.036*\"interview\" + 0.026*\"crash\" + 0.024*\"child\" + 0.019*\"adelaid\" + 0.019*\"court\" + 0.016*\"dy\" + 0.015*\"polic\" + 0.014*\"kill\" + 0.011*\"driver\" + 0.010*\"fatal\"\n",
            "\n",
            "\n",
            "Topic: 9 \n",
            "Words: 0.020*\"rural\" + 0.017*\"report\" + 0.015*\"elect\" + 0.011*\"nation\" + 0.010*\"hill\" + 0.010*\"research\" + 0.010*\"vote\" + 0.009*\"health\" + 0.009*\"say\" + 0.009*\"hospit\"\n",
            "\n",
            "\n"
          ]
        }
      ]
    },
    {
      "cell_type": "markdown",
      "metadata": {
        "id": "G624B9nox31p"
      },
      "source": [
        "### Classification of the topics ###\n",
        "\n",
        "Using the words in each topic and their corresponding weights, what categories were you able to infer?\n",
        "\n",
        "* 0: \n",
        "* 1: \n",
        "* 2: \n",
        "* 3: \n",
        "* 4: \n",
        "* 5: \n",
        "* 6: \n",
        "* 7:  \n",
        "* 8: \n",
        "* 9: "
      ]
    },
    {
      "cell_type": "markdown",
      "metadata": {
        "id": "blnShAFyx31p"
      },
      "source": [
        "## Step 4.2 Running LDA using TF-IDF ##"
      ]
    },
    {
      "cell_type": "code",
      "metadata": {
        "id": "OWLSjTkKx31p"
      },
      "source": [
        "'''\n",
        "Define lda model using corpus_tfidf and store in lda_model_tfidf\n",
        "'''\n",
        "lda_model_tfidf = gensim.models.LdaMulticore(corpus_tfidf,id2word = dictionary,num_topics = 10,workers = 6,alpha = 0.1,eta = 0.1)\n",
        "# TODO\n"
      ],
      "execution_count": null,
      "outputs": []
    },
    {
      "cell_type": "code",
      "metadata": {
        "id": "HX02xQsEx31p",
        "outputId": "35721253-f207-44e3-91bb-b9932c41ba93"
      },
      "source": [
        "'''\n",
        "For each topic, we will explore the words occuring in that topic and its relative weight\n",
        "'''\n",
        "for idx, topic in lda_model_tfidf.print_topics(-1):\n",
        "    print(\"Topic: {} \\nWord: {}\".format(idx, topic))\n",
        "    print(\"\\n\")"
      ],
      "execution_count": null,
      "outputs": [
        {
          "name": "stdout",
          "output_type": "stream",
          "text": [
            "Topic: 0 Word: 0.012*\"drum\" + 0.011*\"hill\" + 0.006*\"capit\" + 0.006*\"broken\" + 0.005*\"februari\" + 0.005*\"homeless\" + 0.005*\"suicid\" + 0.005*\"donat\" + 0.004*\"biki\" + 0.004*\"caught\"\n",
            "\n",
            "\n",
            "Topic: 1 Word: 0.011*\"crash\" + 0.009*\"polic\" + 0.009*\"assault\" + 0.008*\"charg\" + 0.008*\"grandstand\" + 0.008*\"woman\" + 0.007*\"royal\" + 0.007*\"fatal\" + 0.006*\"murder\" + 0.006*\"street\"\n",
            "\n",
            "\n",
            "Topic: 2 Word: 0.007*\"climat\" + 0.007*\"friday\" + 0.006*\"septemb\" + 0.006*\"david\" + 0.006*\"violenc\" + 0.006*\"domest\" + 0.006*\"peter\" + 0.005*\"chang\" + 0.005*\"octob\" + 0.005*\"april\"\n",
            "\n",
            "\n",
            "Topic: 3 Word: 0.017*\"interview\" + 0.015*\"trump\" + 0.008*\"australia\" + 0.007*\"donald\" + 0.006*\"test\" + 0.006*\"final\" + 0.006*\"michael\" + 0.005*\"leagu\" + 0.005*\"world\" + 0.005*\"ash\"\n",
            "\n",
            "\n",
            "Topic: 4 Word: 0.010*\"weather\" + 0.009*\"polic\" + 0.009*\"charg\" + 0.008*\"sport\" + 0.007*\"miss\" + 0.007*\"drug\" + 0.007*\"court\" + 0.007*\"search\" + 0.006*\"monday\" + 0.005*\"june\"\n",
            "\n",
            "\n",
            "Topic: 5 Word: 0.009*\"stab\" + 0.009*\"guilti\" + 0.008*\"turnbul\" + 0.008*\"plead\" + 0.007*\"live\" + 0.007*\"wednesday\" + 0.006*\"august\" + 0.005*\"malcolm\" + 0.005*\"dairi\" + 0.005*\"john\"\n",
            "\n",
            "\n",
            "Topic: 6 Word: 0.020*\"rural\" + 0.019*\"countri\" + 0.018*\"hour\" + 0.013*\"market\" + 0.012*\"news\" + 0.010*\"podcast\" + 0.008*\"share\" + 0.008*\"busi\" + 0.007*\"christma\" + 0.006*\"asylum\"\n",
            "\n",
            "\n",
            "Topic: 7 Word: 0.011*\"kill\" + 0.007*\"hobart\" + 0.007*\"dead\" + 0.007*\"juli\" + 0.005*\"truck\" + 0.005*\"outback\" + 0.005*\"attack\" + 0.005*\"injur\" + 0.005*\"syria\" + 0.004*\"crash\"\n",
            "\n",
            "\n",
            "Topic: 8 Word: 0.008*\"marriag\" + 0.006*\"budget\" + 0.006*\"andrew\" + 0.005*\"price\" + 0.005*\"liber\" + 0.005*\"drought\" + 0.005*\"elect\" + 0.005*\"wrap\" + 0.004*\"burn\" + 0.004*\"speed\"\n",
            "\n",
            "\n",
            "Topic: 9 Word: 0.009*\"govern\" + 0.006*\"plan\" + 0.005*\"fund\" + 0.005*\"health\" + 0.005*\"council\" + 0.005*\"green\" + 0.005*\"labor\" + 0.005*\"say\" + 0.005*\"elect\" + 0.005*\"legal\"\n",
            "\n",
            "\n"
          ]
        }
      ]
    },
    {
      "cell_type": "markdown",
      "metadata": {
        "id": "9sWa59EDx31q"
      },
      "source": [
        "### Classification of the topics ###\n",
        "\n",
        "As we can see, when using tf-idf, heavier weights are given to words that are not as frequent which results in nouns being factored in. That makes it harder to figure out the categories as nouns can be hard to categorize. This goes to show that the models we apply depend on the type of corpus of text we are dealing with. \n",
        "\n",
        "Using the words in each topic and their corresponding weights, what categories could you find?\n",
        "\n",
        "* 0: \n",
        "* 1:  \n",
        "* 2: \n",
        "* 3: \n",
        "* 4:  \n",
        "* 5: \n",
        "* 6: \n",
        "* 7: \n",
        "* 8: \n",
        "* 9: "
      ]
    },
    {
      "cell_type": "markdown",
      "metadata": {
        "id": "pi-9zRttx31q"
      },
      "source": [
        "## Step 5.1: Performance evaluation by classifying sample document using LDA Bag of Words model\n",
        "\n",
        "We will check to see where our test document would be classified. "
      ]
    },
    {
      "cell_type": "code",
      "metadata": {
        "id": "P_4UcGDBx31q",
        "outputId": "22c3efc0-8af1-4d56-b0e1-1b3b9bb38f12"
      },
      "source": [
        "'''\n",
        "Text of sample document 4310\n",
        "'''\n",
        "processed_docs[0][4310]"
      ],
      "execution_count": null,
      "outputs": [
        {
          "data": {
            "text/plain": [
              "['rain', 'help', 'dampen', 'bushfir']"
            ]
          },
          "execution_count": 26,
          "metadata": {},
          "output_type": "execute_result"
        }
      ]
    },
    {
      "cell_type": "code",
      "metadata": {
        "id": "atXrLXVDx31q",
        "outputId": "1e21ac76-f057-447e-cb8d-380af46d2f9d"
      },
      "source": [
        "'''\n",
        "Check which topic our test document belongs to using the LDA Bag of Words model.\n",
        "'''\n",
        "\n",
        "# Our test document is document number 4310\n",
        "for index, score in sorted(lda_model[bow_corpus[document_num]], key=lambda tup: -1*tup[1]):\n",
        "    print(\"\\nScore: {}\\t \\nTopic: {}\".format(score, lda_model.print_topic(index, 10)))"
      ],
      "execution_count": null,
      "outputs": [
        {
          "name": "stdout",
          "output_type": "stream",
          "text": [
            "\n",
            "Score: 0.4348948299884796\t \n",
            "Topic: 0.016*\"rise\" + 0.014*\"live\" + 0.014*\"high\" + 0.010*\"season\" + 0.010*\"take\" + 0.010*\"open\" + 0.009*\"rate\" + 0.009*\"action\" + 0.008*\"cattl\" + 0.008*\"shark\"\n",
            "\n",
            "Score: 0.4050457179546356\t \n",
            "Topic: 0.016*\"australia\" + 0.015*\"world\" + 0.014*\"win\" + 0.012*\"final\" + 0.009*\"test\" + 0.009*\"weather\" + 0.008*\"leagu\" + 0.008*\"star\" + 0.008*\"podcast\" + 0.007*\"tour\"\n",
            "\n",
            "Score: 0.02001050114631653\t \n",
            "Topic: 0.021*\"market\" + 0.012*\"share\" + 0.011*\"urg\" + 0.010*\"say\" + 0.009*\"gold\" + 0.009*\"busi\" + 0.009*\"campaign\" + 0.008*\"abbott\" + 0.008*\"hous\" + 0.008*\"council\"\n",
            "\n",
            "Score: 0.02000935934484005\t \n",
            "Topic: 0.018*\"govern\" + 0.017*\"flood\" + 0.016*\"fund\" + 0.015*\"jail\" + 0.014*\"water\" + 0.010*\"sentenc\" + 0.010*\"defend\" + 0.010*\"game\" + 0.009*\"public\" + 0.009*\"budget\"\n",
            "\n",
            "Score: 0.02000766061246395\t \n",
            "Topic: 0.020*\"rural\" + 0.017*\"report\" + 0.015*\"elect\" + 0.011*\"nation\" + 0.010*\"hill\" + 0.010*\"research\" + 0.010*\"vote\" + 0.009*\"health\" + 0.009*\"say\" + 0.009*\"hospit\"\n",
            "\n",
            "Score: 0.020007463172078133\t \n",
            "Topic: 0.023*\"queensland\" + 0.019*\"north\" + 0.019*\"south\" + 0.015*\"west\" + 0.013*\"power\" + 0.012*\"coast\" + 0.012*\"resid\" + 0.011*\"forc\" + 0.010*\"leader\" + 0.009*\"chang\"\n",
            "\n",
            "Score: 0.020007353276014328\t \n",
            "Topic: 0.034*\"woman\" + 0.031*\"polic\" + 0.020*\"attack\" + 0.018*\"miss\" + 0.015*\"perth\" + 0.014*\"brisban\" + 0.013*\"return\" + 0.011*\"search\" + 0.011*\"death\" + 0.010*\"sydney\"\n",
            "\n",
            "Score: 0.020005755126476288\t \n",
            "Topic: 0.022*\"charg\" + 0.021*\"murder\" + 0.020*\"countri\" + 0.017*\"hour\" + 0.014*\"australia\" + 0.014*\"polic\" + 0.014*\"alleg\" + 0.013*\"arrest\" + 0.013*\"drug\" + 0.013*\"china\"\n",
            "\n",
            "Score: 0.0200057290494442\t \n",
            "Topic: 0.028*\"year\" + 0.022*\"plan\" + 0.015*\"trump\" + 0.013*\"council\" + 0.012*\"fear\" + 0.010*\"meet\" + 0.010*\"news\" + 0.009*\"port\" + 0.009*\"job\" + 0.008*\"region\"\n",
            "\n",
            "Score: 0.02000565081834793\t \n",
            "Topic: 0.036*\"interview\" + 0.026*\"crash\" + 0.024*\"child\" + 0.019*\"adelaid\" + 0.019*\"court\" + 0.016*\"dy\" + 0.015*\"polic\" + 0.014*\"kill\" + 0.011*\"driver\" + 0.010*\"fatal\"\n"
          ]
        }
      ]
    },
    {
      "cell_type": "markdown",
      "metadata": {
        "id": "8fzVNFGnx31q"
      },
      "source": [
        "## Step 5.2: Performance evaluation by classifying sample document using LDA TF-IDF model"
      ]
    },
    {
      "cell_type": "code",
      "metadata": {
        "id": "9arO1I3ix31q",
        "outputId": "475bcf17-cd9a-4744-ef39-77815ae92826"
      },
      "source": [
        "'''\n",
        "Check which topic our test document belongs to using the LDA TF-IDF model.\n",
        "Code would be similar to above\n",
        "'''\n",
        "for index, score in sorted(lda_model_tfidf[corpus_tfidf[document_num]], key=lambda tup: -1*tup[1]):\n",
        "    print(\"\\nScore: {}\\t \\nTopic: {}\".format(score, lda_model_tfidf.print_topic(index, 10)))\n",
        "# Todo"
      ],
      "execution_count": null,
      "outputs": [
        {
          "name": "stdout",
          "output_type": "stream",
          "text": [
            "\n",
            "Score: 0.6942076086997986\t \n",
            "Topic: 0.009*\"govern\" + 0.006*\"plan\" + 0.005*\"fund\" + 0.005*\"health\" + 0.005*\"council\" + 0.005*\"green\" + 0.005*\"labor\" + 0.005*\"say\" + 0.005*\"elect\" + 0.005*\"legal\"\n",
            "\n",
            "Score: 0.03399293124675751\t \n",
            "Topic: 0.008*\"marriag\" + 0.006*\"budget\" + 0.006*\"andrew\" + 0.005*\"price\" + 0.005*\"liber\" + 0.005*\"drought\" + 0.005*\"elect\" + 0.005*\"wrap\" + 0.004*\"burn\" + 0.004*\"speed\"\n",
            "\n",
            "Score: 0.033983781933784485\t \n",
            "Topic: 0.010*\"weather\" + 0.009*\"polic\" + 0.009*\"charg\" + 0.008*\"sport\" + 0.007*\"miss\" + 0.007*\"drug\" + 0.007*\"court\" + 0.007*\"search\" + 0.006*\"monday\" + 0.005*\"june\"\n",
            "\n",
            "Score: 0.03397827595472336\t \n",
            "Topic: 0.007*\"climat\" + 0.007*\"friday\" + 0.006*\"septemb\" + 0.006*\"david\" + 0.006*\"violenc\" + 0.006*\"domest\" + 0.006*\"peter\" + 0.005*\"chang\" + 0.005*\"octob\" + 0.005*\"april\"\n",
            "\n",
            "Score: 0.03397700935602188\t \n",
            "Topic: 0.020*\"rural\" + 0.019*\"countri\" + 0.018*\"hour\" + 0.013*\"market\" + 0.012*\"news\" + 0.010*\"podcast\" + 0.008*\"share\" + 0.008*\"busi\" + 0.007*\"christma\" + 0.006*\"asylum\"\n",
            "\n",
            "Score: 0.033975131809711456\t \n",
            "Topic: 0.009*\"stab\" + 0.009*\"guilti\" + 0.008*\"turnbul\" + 0.008*\"plead\" + 0.007*\"live\" + 0.007*\"wednesday\" + 0.006*\"august\" + 0.005*\"malcolm\" + 0.005*\"dairi\" + 0.005*\"john\"\n",
            "\n",
            "Score: 0.03397461399435997\t \n",
            "Topic: 0.012*\"drum\" + 0.011*\"hill\" + 0.006*\"capit\" + 0.006*\"broken\" + 0.005*\"februari\" + 0.005*\"homeless\" + 0.005*\"suicid\" + 0.005*\"donat\" + 0.004*\"biki\" + 0.004*\"caught\"\n",
            "\n",
            "Score: 0.033971238881349564\t \n",
            "Topic: 0.017*\"interview\" + 0.015*\"trump\" + 0.008*\"australia\" + 0.007*\"donald\" + 0.006*\"test\" + 0.006*\"final\" + 0.006*\"michael\" + 0.005*\"leagu\" + 0.005*\"world\" + 0.005*\"ash\"\n",
            "\n",
            "Score: 0.033970512449741364\t \n",
            "Topic: 0.011*\"kill\" + 0.007*\"hobart\" + 0.007*\"dead\" + 0.007*\"juli\" + 0.005*\"truck\" + 0.005*\"outback\" + 0.005*\"attack\" + 0.005*\"injur\" + 0.005*\"syria\" + 0.004*\"crash\"\n",
            "\n",
            "Score: 0.03396887704730034\t \n",
            "Topic: 0.011*\"crash\" + 0.009*\"polic\" + 0.009*\"assault\" + 0.008*\"charg\" + 0.008*\"grandstand\" + 0.008*\"woman\" + 0.007*\"royal\" + 0.007*\"fatal\" + 0.006*\"murder\" + 0.006*\"street\"\n"
          ]
        }
      ]
    },
    {
      "cell_type": "markdown",
      "metadata": {
        "id": "of29V28hx31q"
      },
      "source": [
        "## Step 6: Testing model on unseen document ##"
      ]
    },
    {
      "cell_type": "code",
      "metadata": {
        "id": "V-hNdBzUx31r",
        "outputId": "533fd18c-7ced-4bab-daf2-8f6f5eab73ac"
      },
      "source": [
        "unseen_document = \"My favorite sports activities are running and swimming.\"\n",
        "\n",
        "# Data preprocessing step for the unseen document\n",
        "bow_vector = dictionary.doc2bow(preprocess(unseen_document))\n",
        "\n",
        "for index, score in sorted(lda_model[bow_vector], key=lambda tup: -1*tup[1]):\n",
        "    print(\"Score: {}\\t Topic: {}\".format(score, lda_model.print_topic(index, 5)))"
      ],
      "execution_count": null,
      "outputs": [
        {
          "name": "stdout",
          "output_type": "stream",
          "text": [
            "Score: 0.6149164438247681\t Topic: 0.018*\"govern\" + 0.017*\"flood\" + 0.016*\"fund\" + 0.015*\"jail\" + 0.014*\"water\"\n",
            "Score: 0.22496071457862854\t Topic: 0.020*\"rural\" + 0.017*\"report\" + 0.015*\"elect\" + 0.011*\"nation\" + 0.010*\"hill\"\n",
            "Score: 0.020036231726408005\t Topic: 0.021*\"market\" + 0.012*\"share\" + 0.011*\"urg\" + 0.010*\"say\" + 0.009*\"gold\"\n",
            "Score: 0.020021041855216026\t Topic: 0.034*\"woman\" + 0.031*\"polic\" + 0.020*\"attack\" + 0.018*\"miss\" + 0.015*\"perth\"\n",
            "Score: 0.0200111735612154\t Topic: 0.016*\"rise\" + 0.014*\"live\" + 0.014*\"high\" + 0.010*\"season\" + 0.010*\"take\"\n",
            "Score: 0.02001096121966839\t Topic: 0.023*\"queensland\" + 0.019*\"north\" + 0.019*\"south\" + 0.015*\"west\" + 0.013*\"power\"\n",
            "Score: 0.020010899752378464\t Topic: 0.022*\"charg\" + 0.021*\"murder\" + 0.020*\"countri\" + 0.017*\"hour\" + 0.014*\"australia\"\n",
            "Score: 0.020010879263281822\t Topic: 0.028*\"year\" + 0.022*\"plan\" + 0.015*\"trump\" + 0.013*\"council\" + 0.012*\"fear\"\n",
            "Score: 0.02001085877418518\t Topic: 0.036*\"interview\" + 0.026*\"crash\" + 0.024*\"child\" + 0.019*\"adelaid\" + 0.019*\"court\"\n",
            "Score: 0.02001083269715309\t Topic: 0.016*\"australia\" + 0.015*\"world\" + 0.014*\"win\" + 0.012*\"final\" + 0.009*\"test\"\n"
          ]
        }
      ]
    },
    {
      "cell_type": "markdown",
      "metadata": {
        "id": "JypgOc5ex31r"
      },
      "source": [
        "### Now, look up different ways we can transform our words or use different techniques or improvements that we can make to make our Topic Classifier more accurate. Write them down below:"
      ]
    },
    {
      "cell_type": "markdown",
      "metadata": {
        "id": "qMTBkuplx31r"
      },
      "source": [
        "**We can:**\n",
        "- Append points here\n",
        "- Need to make sure that all the data provided is related to the topic and prevent providing unwanted data\n",
        "- Make use of a stopword library that removes maximum of the stopwords to ovoid them from hindering the accuracy of the model"
      ]
    }
  ]
}